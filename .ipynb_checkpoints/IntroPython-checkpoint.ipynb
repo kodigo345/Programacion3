{
 "cells": [
  {
   "cell_type": "markdown",
   "metadata": {
    "id": "g5ejPKqL0sDr"
   },
   "source": [
    "# **Primera Clase Programacion 3**"
   ]
  },
  {
   "cell_type": "markdown",
   "metadata": {
    "id": "Cwk7Iv721hP7"
   },
   "source": [
    "## Logica Programacion Phyton"
   ]
  },
  {
   "cell_type": "markdown",
   "metadata": {
    "id": "J06R7nSV4GK8"
   },
   "source": [
    "## Primera Funcion"
   ]
  },
  {
   "cell_type": "code",
   "execution_count": null,
   "metadata": {
    "id": "wJyWbxLv4LE0"
   },
   "outputs": [],
   "source": [
    "def SayHi():\n",
    "  name = input(\"Ingresa tu nombre: \")\n",
    "  print(f\"Hola {name.upper()}\")"
   ]
  },
  {
   "cell_type": "code",
   "execution_count": null,
   "metadata": {
    "colab": {
     "base_uri": "https://localhost:8080/"
    },
    "id": "7ikeBxso4gVt",
    "outputId": "fb9e303e-2dca-4716-985a-f40242de2bd8"
   },
   "outputs": [
    {
     "name": "stdout",
     "output_type": "stream",
     "text": [
      "Ingresa tu nombre: pedro\n",
      "Hola PEDRO\n"
     ]
    }
   ],
   "source": [
    "SayHi()"
   ]
  },
  {
   "cell_type": "code",
   "execution_count": null,
   "metadata": {
    "colab": {
     "base_uri": "https://localhost:8080/"
    },
    "id": "4wfDn292z9Ag",
    "outputId": "aa1c3af2-185d-4577-d8cf-b75f4c643eab"
   },
   "outputs": [
    {
     "name": "stdout",
     "output_type": "stream",
     "text": [
      "primera clase\n"
     ]
    }
   ],
   "source": [
    "print (\"primera clase\")"
   ]
  },
  {
   "cell_type": "code",
   "execution_count": null,
   "metadata": {
    "colab": {
     "base_uri": "https://localhost:8080/"
    },
    "id": "YPC-0b4p1sFk",
    "outputId": "e124a5aa-4941-473d-b605-c6c2cbec63fc"
   },
   "outputs": [
    {
     "name": "stdout",
     "output_type": "stream",
     "text": [
      "Alex\n"
     ]
    }
   ],
   "source": [
    "name=\"Alex\"\n",
    "print (name)"
   ]
  },
  {
   "cell_type": "code",
   "execution_count": null,
   "metadata": {
    "colab": {
     "base_uri": "https://localhost:8080/"
    },
    "id": "Hhdp3xtm2yM9",
    "outputId": "43e34908-f677-4ad5-ed6b-15c48953cc08"
   },
   "outputs": [
    {
     "data": {
      "text/plain": [
       "19"
      ]
     },
     "execution_count": 6,
     "metadata": {},
     "output_type": "execute_result"
    }
   ],
   "source": [
    "age=19\n",
    "age"
   ]
  },
  {
   "cell_type": "code",
   "execution_count": null,
   "metadata": {
    "colab": {
     "base_uri": "https://localhost:8080/"
    },
    "id": "B0zElNna29NG",
    "outputId": "609d075e-ecde-4206-daa5-2e1fea8380dc"
   },
   "outputs": [
    {
     "name": "stdout",
     "output_type": "stream",
     "text": [
      "El nombre es Alex y tiene 19 años\n"
     ]
    }
   ],
   "source": [
    "print(f\"El nombre es {name} y tiene {age} años\")"
   ]
  },
  {
   "cell_type": "code",
   "execution_count": null,
   "metadata": {
    "id": "IUzOOfHo3yyl"
   },
   "outputs": [],
   "source": [
    "age=20"
   ]
  },
  {
   "cell_type": "code",
   "execution_count": null,
   "metadata": {
    "colab": {
     "base_uri": "https://localhost:8080/"
    },
    "id": "1oESwLaJ328G",
    "outputId": "6c351607-b524-450c-c896-a562def56afb"
   },
   "outputs": [
    {
     "name": "stdout",
     "output_type": "stream",
     "text": [
      "El nombre es Alex y tiene 20 años\n"
     ]
    }
   ],
   "source": [
    "print(f\"El nombre es {name} y tiene {age} años\")"
   ]
  },
  {
   "cell_type": "markdown",
   "metadata": {
    "id": "MBRXFh4356As"
   },
   "source": [
    "## Parametros"
   ]
  },
  {
   "cell_type": "code",
   "execution_count": null,
   "metadata": {
    "id": "obk7OVRO6EnN"
   },
   "outputs": [],
   "source": [
    "def SayHiWithParameters(aname):\n",
    "  print(f\"Hi {aname}\")"
   ]
  },
  {
   "cell_type": "code",
   "execution_count": null,
   "metadata": {
    "id": "AYT5SCR_58qL"
   },
   "outputs": [],
   "source": [
    "name=\"Juan\""
   ]
  },
  {
   "cell_type": "code",
   "execution_count": null,
   "metadata": {
    "colab": {
     "base_uri": "https://localhost:8080/"
    },
    "id": "KKHRVLA76PhD",
    "outputId": "7fc765d8-44d5-4877-a468-6b3142160caf"
   },
   "outputs": [
    {
     "name": "stdout",
     "output_type": "stream",
     "text": [
      "Hi Juan\n"
     ]
    }
   ],
   "source": [
    "SayHiWithParameters(name)"
   ]
  },
  {
   "cell_type": "markdown",
   "metadata": {
    "id": "7Jufgis96vaq"
   },
   "source": [
    "## Condicionales"
   ]
  },
  {
   "cell_type": "code",
   "execution_count": null,
   "metadata": {
    "id": "pnVIpHf-7a6k"
   },
   "outputs": [],
   "source": [
    "age=20"
   ]
  },
  {
   "cell_type": "code",
   "execution_count": null,
   "metadata": {
    "colab": {
     "base_uri": "https://localhost:8080/"
    },
    "id": "TxB13G0-6y-0",
    "outputId": "353d15d3-8e0f-4061-90a2-810c6165ce37"
   },
   "outputs": [
    {
     "name": "stdout",
     "output_type": "stream",
     "text": [
      "La persona de 50 años puede conducir\n"
     ]
    }
   ],
   "source": [
    "def VericateIfCanDrive(an_age):\n",
    "  if an_age>=18:\n",
    "    print(f\"La persona de {an_age} años puede conducir\")\n",
    "  else:\n",
    "    print(f\"La persona de {an_age} años no puede conducir\")\n",
    "VericateIfCanDrive(age)"
   ]
  },
  {
   "cell_type": "code",
   "execution_count": null,
   "metadata": {
    "colab": {
     "base_uri": "https://localhost:8080/"
    },
    "id": "b3oeBIlT7Gxf",
    "outputId": "42387fba-96de-4189-aaff-e97a5c785301"
   },
   "outputs": [
    {
     "name": "stdout",
     "output_type": "stream",
     "text": [
      "Ingresa tu edad: l\n",
      "Ingresa tu edad: 5\n",
      "No puede conducir\n"
     ]
    }
   ],
   "source": [
    "def VericateIfCanDriveWithoutParameters():\n",
    "  is_int=True\n",
    "  while is_int:\n",
    "    an_age=input(\"Ingresa tu edad: \")\n",
    "    if an_age.isdigit():\n",
    "      is_int=False\n",
    "  an_age=int(an_age)\n",
    "\n",
    "  if an_age>18:\n",
    "    print(\"Puede conducir\")\n",
    "  else:\n",
    "    print(\"No puede conducir\")\n",
    "VericateIfCanDriveWithoutParameters()"
   ]
  },
  {
   "cell_type": "code",
   "execution_count": null,
   "metadata": {
    "colab": {
     "base_uri": "https://localhost:8080/"
    },
    "id": "eCfiFPi5_P2n",
    "outputId": "30ebaf20-aa35-495a-dcc6-ad23d8c48592"
   },
   "outputs": [
    {
     "data": {
      "text/plain": [
       "int"
      ]
     },
     "execution_count": 43,
     "metadata": {},
     "output_type": "execute_result"
    }
   ],
   "source": [
    "type(age)"
   ]
  },
  {
   "cell_type": "markdown",
   "metadata": {
    "id": "d6a0_6V8CfhC"
   },
   "source": [
    "##Listas"
   ]
  },
  {
   "cell_type": "code",
   "execution_count": null,
   "metadata": {
    "colab": {
     "base_uri": "https://localhost:8080/"
    },
    "id": "Jr--oPJTAPM0",
    "outputId": "0694333e-b3ac-4da9-eb2b-dd3f79fd2075"
   },
   "outputs": [
    {
     "data": {
      "text/plain": [
       "list"
      ]
     },
     "execution_count": 48,
     "metadata": {},
     "output_type": "execute_result"
    }
   ],
   "source": [
    "ages = [12,14,15,17]\n",
    "type(ages)"
   ]
  },
  {
   "cell_type": "code",
   "execution_count": null,
   "metadata": {
    "colab": {
     "base_uri": "https://localhost:8080/"
    },
    "id": "lJGtVh1pA4EM",
    "outputId": "d7e1dc7f-e1c0-48c5-b9d3-47ba2da3fe23"
   },
   "outputs": [
    {
     "data": {
      "text/plain": [
       "3"
      ]
     },
     "execution_count": 53,
     "metadata": {},
     "output_type": "execute_result"
    }
   ],
   "source": [
    "ages = [1,2,3,4]\n",
    "#       0 1 2 3\n",
    "#       0 -3 -2 1\n",
    "ages[2]"
   ]
  },
  {
   "cell_type": "code",
   "execution_count": null,
   "metadata": {
    "colab": {
     "base_uri": "https://localhost:8080/"
    },
    "id": "uBUnY6PXByto",
    "outputId": "32aaa589-bf31-42c6-cb36-0bda67493fdb"
   },
   "outputs": [
    {
     "data": {
      "text/plain": [
       "[1, 2, 3]"
      ]
     },
     "execution_count": 54,
     "metadata": {},
     "output_type": "execute_result"
    }
   ],
   "source": [
    "ages[0:3]"
   ]
  },
  {
   "cell_type": "code",
   "execution_count": null,
   "metadata": {
    "colab": {
     "base_uri": "https://localhost:8080/"
    },
    "id": "EZNFGaIRCIJU",
    "outputId": "6699ee86-c050-45cd-9a49-97d50bc7e31e"
   },
   "outputs": [
    {
     "data": {
      "text/plain": [
       "[2, 3, 4]"
      ]
     },
     "execution_count": 55,
     "metadata": {},
     "output_type": "execute_result"
    }
   ],
   "source": [
    "ages[1:]"
   ]
  },
  {
   "cell_type": "markdown",
   "metadata": {
    "id": "Vuvk6KCQCjci"
   },
   "source": [
    "## Bucles y Lazos"
   ]
  },
  {
   "cell_type": "code",
   "execution_count": null,
   "metadata": {
    "id": "LuT2_m2mCnoE"
   },
   "outputs": [],
   "source": [
    "ages=[18,22,15,50]"
   ]
  },
  {
   "cell_type": "code",
   "execution_count": null,
   "metadata": {
    "colab": {
     "base_uri": "https://localhost:8080/"
    },
    "id": "dnl7ht_oDCk7",
    "outputId": "6c5ab5a2-7ca6-4243-f0ee-af1556fbfce6"
   },
   "outputs": [
    {
     "name": "stdout",
     "output_type": "stream",
     "text": [
      "La persona de 18 años puede conducir\n",
      "La persona de 22 años puede conducir\n",
      "La persona de 15 años no puede conducir\n",
      "La persona de 50 años puede conducir\n"
     ]
    }
   ],
   "source": [
    "for age in ages:\n",
    "  VericateIfCanDrive(age)"
   ]
  },
  {
   "cell_type": "code",
   "execution_count": null,
   "metadata": {
    "colab": {
     "base_uri": "https://localhost:8080/"
    },
    "id": "Nflm2n9mEth_",
    "outputId": "c108aabe-5a5f-4edb-ce34-8d1adf850263"
   },
   "outputs": [
    {
     "name": "stdout",
     "output_type": "stream",
     "text": [
      "La persona de 18 años puede conducir\n",
      "La persona de 22 años puede conducir\n",
      "La persona de 15 años no puede conducir\n",
      "La persona de 50 años puede conducir\n"
     ]
    }
   ],
   "source": [
    "def VerificateIfCanDriveWithBucle(ages):\n",
    "  for age in ages:\n",
    "    if age>=18:\n",
    "      print(f\"La persona de {age} años puede conducir\")\n",
    "    else:\n",
    "      print(f\"La persona de {age} años no puede conducir\")\n",
    "VerificateIfCanDriveWithBucle(ages)"
   ]
  },
  {
   "cell_type": "markdown",
   "metadata": {
    "id": "-Pgm9b7VFk1S"
   },
   "source": [
    "## Booleanos"
   ]
  },
  {
   "cell_type": "code",
   "execution_count": null,
   "metadata": {
    "colab": {
     "base_uri": "https://localhost:8080/"
    },
    "id": "Z_SG4wBgFojx",
    "outputId": "48b34856-e184-4109-cd73-84976ae62719"
   },
   "outputs": [
    {
     "data": {
      "text/plain": [
       "False"
      ]
     },
     "execution_count": 67,
     "metadata": {},
     "output_type": "execute_result"
    }
   ],
   "source": [
    "age =15\n",
    "age>=18"
   ]
  },
  {
   "cell_type": "code",
   "execution_count": null,
   "metadata": {
    "id": "tnnI2JVkGMg7"
   },
   "outputs": [],
   "source": [
    "auth=[]"
   ]
  },
  {
   "cell_type": "code",
   "execution_count": null,
   "metadata": {
    "colab": {
     "base_uri": "https://localhost:8080/"
    },
    "id": "RVbuU8xNGJbs",
    "outputId": "ef080925-f64e-466f-8255-4246379366f0"
   },
   "outputs": [
    {
     "data": {
      "text/plain": [
       "[True, True, False, True]"
      ]
     },
     "execution_count": 74,
     "metadata": {},
     "output_type": "execute_result"
    }
   ],
   "source": [
    "auth.clear()\n",
    "def VerificateIfCanDriveWithBucle(ages, auth):\n",
    "  for age in ages:\n",
    "    if age>=18:\n",
    "      auth.append(True)\n",
    "    else:\n",
    "      auth.append(False)\n",
    "VerificateIfCanDriveWithBucle(ages,auth)\n",
    "auth"
   ]
  },
  {
   "cell_type": "code",
   "execution_count": null,
   "metadata": {
    "colab": {
     "base_uri": "https://localhost:8080/"
    },
    "id": "8ZCEulwTHjP_",
    "outputId": "bffb79f2-17f8-43c9-c4fd-01f922afdc67"
   },
   "outputs": [
    {
     "name": "stdout",
     "output_type": "stream",
     "text": [
      "Puede conducir\n",
      "Puede conducir\n",
      "No puede conducir\n",
      "Puede conducir\n"
     ]
    }
   ],
   "source": [
    "for person in auth:\n",
    "  if person==True:\n",
    "    print(\"Puede conducir\")\n",
    "  else:\n",
    "    print(\"No puede conducir\")"
   ]
  },
  {
   "cell_type": "markdown",
   "metadata": {
    "id": "xxtJei7RH_bR"
   },
   "source": [
    "## Tipos en una lista"
   ]
  },
  {
   "cell_type": "code",
   "execution_count": null,
   "metadata": {
    "colab": {
     "base_uri": "https://localhost:8080/"
    },
    "id": "yandypgIICAC",
    "outputId": "de5dd8bf-f401-4d34-821b-53f5a9656ced"
   },
   "outputs": [
    {
     "name": "stdout",
     "output_type": "stream",
     "text": [
      "El elemento Mauricio es del tipo:  <class 'str'>\n",
      "El elemento 1 es del tipo:  <class 'int'>\n",
      "El elemento True es del tipo:  <class 'bool'>\n",
      "El elemento 18 es del tipo:  <class 'str'>\n"
     ]
    }
   ],
   "source": [
    "lista = [\"Mauricio\", 1, True, \"18\"]\n",
    "for element in lista:\n",
    "  print(f\"El elemento {element} es del tipo: \", type(element))"
   ]
  },
  {
   "cell_type": "markdown",
   "metadata": {
    "id": "fvBaXTbiIzeS"
   },
   "source": [
    "## Import"
   ]
  },
  {
   "cell_type": "code",
   "execution_count": null,
   "metadata": {
    "id": "LvKIKEeEI1BU"
   },
   "outputs": [],
   "source": [
    "from random import randrange, seed"
   ]
  },
  {
   "cell_type": "code",
   "execution_count": null,
   "metadata": {
    "id": "SRyoY4JxI-9M"
   },
   "outputs": [],
   "source": [
    "seed(8)"
   ]
  },
  {
   "cell_type": "code",
   "execution_count": null,
   "metadata": {
    "colab": {
     "base_uri": "https://localhost:8080/"
    },
    "id": "i9XrY4yRJFW7",
    "outputId": "79d5a29c-2e95-4331-a6f6-ae3f7ab0210d"
   },
   "outputs": [
    {
     "data": {
      "text/plain": [
       "3"
      ]
     },
     "execution_count": 102,
     "metadata": {},
     "output_type": "execute_result"
    }
   ],
   "source": [
    "randrange(0,11)"
   ]
  },
  {
   "cell_type": "code",
   "execution_count": null,
   "metadata": {
    "colab": {
     "base_uri": "https://localhost:8080/"
    },
    "id": "mbjSnLkjJ50b",
    "outputId": "308a0cc8-b885-4123-c4ba-e2d2231ac850"
   },
   "outputs": [
    {
     "data": {
      "text/plain": [
       "[7, 7, 6, 7, 9, 3, 6]"
      ]
     },
     "execution_count": 107,
     "metadata": {},
     "output_type": "execute_result"
    }
   ],
   "source": [
    "notas_mate=[]\n",
    "for notas in range(randrange(0,8)):\n",
    "  notas_mate.append(randrange(0,11))\n",
    "notas_mate"
   ]
  },
  {
   "cell_type": "code",
   "execution_count": null,
   "metadata": {
    "colab": {
     "base_uri": "https://localhost:8080/"
    },
    "id": "JOsETajFKYm0",
    "outputId": "e5b91f46-2c2d-41ef-d31b-f1201f0caae5"
   },
   "outputs": [
    {
     "data": {
      "text/plain": [
       "7"
      ]
     },
     "execution_count": 108,
     "metadata": {},
     "output_type": "execute_result"
    }
   ],
   "source": [
    "len(notas_mate)"
   ]
  },
  {
   "cell_type": "markdown",
   "metadata": {
    "id": "zJsIOBhIKiKx"
   },
   "source": [
    "## Matplotlib"
   ]
  },
  {
   "cell_type": "code",
   "execution_count": null,
   "metadata": {
    "id": "d1nTinsZKDPb"
   },
   "outputs": [],
   "source": [
    "import matplotlib.pyplot as plt"
   ]
  },
  {
   "cell_type": "code",
   "execution_count": null,
   "metadata": {
    "colab": {
     "base_uri": "https://localhost:8080/",
     "height": 235
    },
    "id": "0h-o08lNNa20",
    "outputId": "6046cefc-1a13-45fe-902b-825558d5fcf5"
   },
   "outputs": [
    {
     "ename": "TypeError",
     "evalue": "ignored",
     "output_type": "error",
     "traceback": [
      "\u001b[0;31m---------------------------------------------------------------------------\u001b[0m",
      "\u001b[0;31mTypeError\u001b[0m                                 Traceback (most recent call last)",
      "\u001b[0;32m<ipython-input-139-6f931eee27cc>\u001b[0m in \u001b[0;36m<cell line: 1>\u001b[0;34m()\u001b[0m\n\u001b[0;32m----> 1\u001b[0;31m \u001b[0mx\u001b[0m\u001b[0;34m=\u001b[0m\u001b[0mlist\u001b[0m\u001b[0;34m(\u001b[0m\u001b[0mrange\u001b[0m\u001b[0;34m(\u001b[0m\u001b[0;36m1\u001b[0m\u001b[0;34m,\u001b[0m\u001b[0;36m9\u001b[0m\u001b[0;34m)\u001b[0m\u001b[0;34m)\u001b[0m\u001b[0;34m\u001b[0m\u001b[0;34m\u001b[0m\u001b[0m\n\u001b[0m\u001b[1;32m      2\u001b[0m \u001b[0my\u001b[0m\u001b[0;34m=\u001b[0m\u001b[0mnotas_mate\u001b[0m\u001b[0;34m\u001b[0m\u001b[0;34m\u001b[0m\u001b[0m\n\u001b[1;32m      3\u001b[0m \u001b[0mplt\u001b[0m\u001b[0;34m.\u001b[0m\u001b[0mplot\u001b[0m\u001b[0;34m(\u001b[0m\u001b[0mx\u001b[0m\u001b[0;34m,\u001b[0m\u001b[0my\u001b[0m\u001b[0;34m,\u001b[0m \u001b[0mmarket\u001b[0m\u001b[0;34m=\u001b[0m\u001b[0;34m'o'\u001b[0m\u001b[0;34m)\u001b[0m\u001b[0;34m\u001b[0m\u001b[0;34m\u001b[0m\u001b[0m\n\u001b[1;32m      4\u001b[0m \u001b[0mplt\u001b[0m\u001b[0;34m.\u001b[0m\u001b[0mtitle\u001b[0m\u001b[0;34m(\u001b[0m\u001b[0;34m\"Notas Matemáticas\"\u001b[0m\u001b[0;34m)\u001b[0m\u001b[0;34m\u001b[0m\u001b[0;34m\u001b[0m\u001b[0m\n\u001b[1;32m      5\u001b[0m \u001b[0mplt\u001b[0m\u001b[0;34m.\u001b[0m\u001b[0mxlabel\u001b[0m\u001b[0;34m(\u001b[0m\u001b[0;34m\"Examenes\"\u001b[0m\u001b[0;34m)\u001b[0m\u001b[0;34m\u001b[0m\u001b[0;34m\u001b[0m\u001b[0m\n",
      "\u001b[0;31mTypeError\u001b[0m: 'list' object is not callable"
     ]
    }
   ],
   "source": [
    "x=list(range(1,9))\n",
    "y=notas_mate\n",
    "plt.plot(x,y, market='o')\n",
    "plt.title(\"Notas Matemáticas\")\n",
    "plt.xlabel(\"Examenes\")\n",
    "plt.ylabel(\"Notas\")\n",
    "plt.Show()"
   ]
  },
  {
   "cell_type": "markdown",
   "metadata": {
    "id": "SitS3o9n1H3o"
   },
   "source": [
    "#Dia 2"
   ]
  },
  {
   "cell_type": "code",
   "execution_count": null,
   "metadata": {
    "colab": {
     "base_uri": "https://localhost:8080/"
    },
    "id": "nMF5JWxR1KVW",
    "outputId": "b4ee39e9-8313-438e-a201-82ab8c230f27"
   },
   "outputs": [
    {
     "name": "stdout",
     "output_type": "stream",
     "text": [
      "Brasil gano 5 titulos mundiales de futbol\n"
     ]
    }
   ],
   "source": [
    "print('Brasil gano 5 titulos mundiales de futbol')"
   ]
  },
  {
   "cell_type": "code",
   "execution_count": null,
   "metadata": {
    "colab": {
     "base_uri": "https://localhost:8080/"
    },
    "id": "PHNmgt4F1Vrv",
    "outputId": "8ea70099-b673-4583-b0c8-012f38c304a2"
   },
   "outputs": [
    {
     "name": "stdout",
     "output_type": "stream",
     "text": [
      "Brasil gano 5 titulos mundiales de futbol\n"
     ]
    }
   ],
   "source": [
    "print('Brasil gano 5 titulos mundiales de futbol', sep='-')"
   ]
  },
  {
   "cell_type": "code",
   "execution_count": null,
   "metadata": {
    "colab": {
     "base_uri": "https://localhost:8080/"
    },
    "id": "kaZ1ZTmO1yVv",
    "outputId": "fd713bed-7e40-400f-9fab-ff115771dcb9"
   },
   "outputs": [
    {
     "name": "stdout",
     "output_type": "stream",
     "text": [
      "Brasil-gano-5-titulos-mundiales-de futbol\n"
     ]
    }
   ],
   "source": [
    "print('Brasil', 'gano', 5, 'titulos', 'mundiales', 'de futbol', sep='-')"
   ]
  },
  {
   "cell_type": "code",
   "execution_count": null,
   "metadata": {
    "colab": {
     "base_uri": "https://localhost:8080/"
    },
    "id": "uZvMiu0h2nYn",
    "outputId": "70887fff-2c2c-4b1f-b352-feef5294c5bc"
   },
   "outputs": [
    {
     "name": "stdout",
     "output_type": "stream",
     "text": [
      "Brasil gano 5 titulos mundiales de futbol "
     ]
    }
   ],
   "source": [
    "print('Brasil', 'gano', 5, 'titulos', 'mundiales', 'de futbol', end=' ')"
   ]
  },
  {
   "cell_type": "code",
   "execution_count": null,
   "metadata": {
    "colab": {
     "base_uri": "https://localhost:8080/"
    },
    "id": "hRf0ZGgF27aW",
    "outputId": "3ce5cd4d-b11a-4337-f20a-696f1a5a3613"
   },
   "outputs": [
    {
     "name": "stdout",
     "output_type": "stream",
     "text": [
      "Argentina gano 3 titulos\n",
      "Italia gano 2 titulos\n",
      "Brasil gano 5 titulos\n"
     ]
    }
   ],
   "source": [
    "paises = ['Argentina', 'Italia', 'Brasil']\n",
    "titulos=[3, 2, 5]\n",
    "for i, pais in enumerate(paises):\n",
    "  print(f'{paises[i]} gano {titulos[i]} titulos')"
   ]
  },
  {
   "cell_type": "markdown",
   "metadata": {
    "id": "12CnMz0X5haw"
   },
   "source": [
    "##Juego Adivinanza"
   ]
  },
  {
   "cell_type": "code",
   "execution_count": null,
   "metadata": {
    "id": "itaXvC3w7xNY"
   },
   "outputs": [],
   "source": [
    "def verificar_Entero():\n",
    "  isInt=False\n",
    "  while isInt==False:\n",
    "    variable=input(\"Ingrese el numero: \")\n",
    "    if variable.isdigit():\n",
    "      isInt=True\n",
    "  variable=int(variable)\n",
    "  return variable"
   ]
  },
  {
   "cell_type": "code",
   "execution_count": null,
   "metadata": {
    "id": "jNqLMQsfDzua"
   },
   "outputs": [],
   "source": [
    "def cercania_Numeros(num1, num2):\n",
    "  diferencia=abs(num1-num2)\n",
    "  if(diferencia<=10):\n",
    "    print(\"Estas muy cerca!\")\n",
    "  elif(diferencia>10 and diferencia<30):\n",
    "    print(\"Ni tan cerca, ni tan lejos, TU PUEDES!\")\n",
    "  else:\n",
    "    print(\"Estas demasiado lejos del numero!\")"
   ]
  },
  {
   "cell_type": "code",
   "execution_count": null,
   "metadata": {
    "id": "xzwxnzJkNFgS"
   },
   "outputs": [],
   "source": [
    "def menu_Dificultad():\n",
    "  print(\"\\tSeleccione un nivel de dificultad \\n\\t(1)Facil | (2)Medio | (3)Dificil\")\n",
    "  dificultad=verificar_Entero()\n",
    "  if(dificultad==1):\n",
    "    return 20\n",
    "  elif(dificultad==2):\n",
    "    return 10\n",
    "  else:\n",
    "    return 5"
   ]
  },
  {
   "cell_type": "markdown",
   "metadata": {
    "id": "QB_I_-MKCdMw"
   },
   "source": [
    "##Juego Adivinanza"
   ]
  },
  {
   "cell_type": "code",
   "execution_count": null,
   "metadata": {
    "colab": {
     "base_uri": "https://localhost:8080/"
    },
    "id": "sImW3Adp3fDK",
    "outputId": "4d5a4373-5a50-46fe-ddbc-5c70535df4f5"
   },
   "outputs": [
    {
     "name": "stdout",
     "output_type": "stream",
     "text": [
      "=================================================\n",
      "\t\tJuego Adivinanza\n",
      "=================================================\n",
      "76\n",
      "\tSeleccione un nivel de dificultad \n",
      "\t(1)Facil | (2)Medio | (3)Dificil\n",
      "Ingrese un numero: 1\n",
      "\t\tIntento #1 de 20\n",
      "\t\t\t\tPuntaje: 100\n",
      "Ingrese un numero: 76\n",
      "<><> Verificando si 76 es el numero secreto <><>\n",
      "¡¡¡Felicidades! Adivinaste el numero con 1 solo intento!!!\n",
      "=================================================\n",
      "\t\tFin del Juego\n",
      "=================================================\n"
     ]
    }
   ],
   "source": [
    "from random import randrange as rndrange\n",
    "print(\"=================================================\")\n",
    "print(\"\\t\\tJuego Adivinanza\")\n",
    "print(\"=================================================\")\n",
    "\n",
    "numeroSecreto=round(rndrange(0,100))\n",
    "print(numeroSecreto)\n",
    "maxIntentos=menu_Dificultad()\n",
    "puntaje=0\n",
    "if(maxIntentos==20):\n",
    "  puntaje=100\n",
    "elif(maxIntentos==10):\n",
    "  puntaje=1000\n",
    "else:\n",
    "  puntaje=1000000\n",
    "for intento in range(1, maxIntentos+1,1):\n",
    "    if(intento<maxIntentos):\n",
    "      print(\"\\t\\tIntento #{} de {}\".format(intento, maxIntentos))\n",
    "      print(f\"\\t\\t\\t\\tPuntaje: {puntaje}\")\n",
    "    else:\n",
    "      print(\"\\t\\tIntento #{} de {}\".format(intento, maxIntentos))\n",
    "      print(f\"Puntaje: {puntaje}\")\n",
    "      print(\"\\t¡¡¡Atento! Estas en tu ultimo intento!!!\")\n",
    "    entrada=verificar_Entero()\n",
    "    if(entrada<1 or entrada>100):\n",
    "      print(\"¡¡¡Debe ingresar un numero entre 1 y 100!!!\")\n",
    "      puntaje=round(puntaje-(puntaje*0.2))\n",
    "      continue\n",
    "    print(f\"<><> Verificando si {entrada} es el numero secreto <><>\")\n",
    "\n",
    "    if(entrada==numeroSecreto):\n",
    "      if(intento>1):\n",
    "        print(f\"¡¡¡Felicidades! Adivinaste el numero con {intento} intentos!!!\")\n",
    "      else:\n",
    "        print(f\"¡¡¡Felicidades! Adivinaste el numero con {intento} solo intento!!!\")\n",
    "      acertado=True\n",
    "      break\n",
    "    elif(entrada<numeroSecreto):\n",
    "      print(\"<><> El numero ingresado es menor que el secreto! <><>\")\n",
    "      cercania_Numeros(entrada, numeroSecreto)\n",
    "      intento+=1\n",
    "      puntaje=round(puntaje-(puntaje*0.2))\n",
    "    else:\n",
    "      print(\"<><> El numero es mayor que el secreto! <><>\")\n",
    "      cercania_Numeros(entrada, numeroSecreto)\n",
    "      intento+=1\n",
    "      puntaje=round(puntaje-(puntaje*0.2))\n",
    "print(\"=================================================\")\n",
    "print(\"\\t\\tFin del Juego\")\n",
    "print(\"=================================================\")"
   ]
  },
  {
   "cell_type": "code",
   "execution_count": null,
   "metadata": {
    "colab": {
     "base_uri": "https://localhost:8080/"
    },
    "id": "HOK1O0ytFsjJ",
    "outputId": "ff48d719-0f5f-422e-bafc-1dd7a63bcbf3"
   },
   "outputs": [
    {
     "name": "stdout",
     "output_type": "stream",
     "text": [
      "20\n",
      "18\n",
      "16\n",
      "14\n",
      "12\n",
      "10\n",
      "8\n",
      "6\n",
      "4\n",
      "2\n"
     ]
    }
   ],
   "source": [
    "for i in range(20,1,-2):\n",
    "  print(i)"
   ]
  }
 ],
 "metadata": {
  "colab": {
   "collapsed_sections": [
    "J06R7nSV4GK8",
    "MBRXFh4356As",
    "d6a0_6V8CfhC",
    "Vuvk6KCQCjci",
    "-Pgm9b7VFk1S",
    "xxtJei7RH_bR",
    "zJsIOBhIKiKx"
   ],
   "provenance": []
  },
  "kernelspec": {
   "display_name": "Python 3 (ipykernel)",
   "language": "python",
   "name": "python3"
  },
  "language_info": {
   "codemirror_mode": {
    "name": "ipython",
    "version": 3
   },
   "file_extension": ".py",
   "mimetype": "text/x-python",
   "name": "python",
   "nbconvert_exporter": "python",
   "pygments_lexer": "ipython3",
   "version": "3.11.4"
  }
 },
 "nbformat": 4,
 "nbformat_minor": 1
}
