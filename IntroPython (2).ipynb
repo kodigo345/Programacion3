{
 "cells": [
  {
   "cell_type": "markdown",
   "metadata": {
    "id": "nDFR1EyKz6V9"
   },
   "source": [
    "## Primera clase de Pyton"
   ]
  },
  {
   "cell_type": "code",
   "execution_count": null,
   "metadata": {
    "colab": {
     "base_uri": "https://localhost:8080/"
    },
    "id": "bxdahWoVyjQn",
    "outputId": "9216e1fd-33e5-46e1-b54e-d117d0d73bf8"
   },
   "outputs": [
    {
     "data": {
      "text/plain": [
       "91"
      ]
     },
     "execution_count": 1,
     "metadata": {},
     "output_type": "execute_result"
    }
   ],
   "source": [
    "1+90"
   ]
  },
  {
   "cell_type": "code",
   "execution_count": null,
   "metadata": {
    "colab": {
     "base_uri": "https://localhost:8080/"
    },
    "id": "8PuaGCPG1VPd",
    "outputId": "d2289c7d-4a05-4698-af1a-448f61e2629a"
   },
   "outputs": [
    {
     "data": {
      "text/plain": [
       "99"
      ]
     },
     "execution_count": 2,
     "metadata": {},
     "output_type": "execute_result"
    }
   ],
   "source": [
    "1+98"
   ]
  },
  {
   "cell_type": "markdown",
   "metadata": {
    "id": "Y7fnmwb_1dvK"
   },
   "source": [
    "#Lógica de programación con Python"
   ]
  },
  {
   "cell_type": "code",
   "execution_count": null,
   "metadata": {
    "colab": {
     "base_uri": "https://localhost:8080/",
     "height": 36
    },
    "id": "_t_Kj9dy1vA5",
    "outputId": "89972013-ed01-4ebf-a110-4d288c77905b"
   },
   "outputs": [
    {
     "data": {
      "application/vnd.google.colaboratory.intrinsic+json": {
       "type": "string"
      },
      "text/plain": [
       "'Rolando'"
      ]
     },
     "execution_count": 4,
     "metadata": {},
     "output_type": "execute_result"
    }
   ],
   "source": [
    "\"Rolando\""
   ]
  },
  {
   "cell_type": "code",
   "execution_count": null,
   "metadata": {
    "id": "EXD1p_Bp2R4d"
   },
   "outputs": [],
   "source": [
    "nombre = \"Rolando\""
   ]
  },
  {
   "cell_type": "code",
   "execution_count": null,
   "metadata": {
    "colab": {
     "base_uri": "https://localhost:8080/",
     "height": 36
    },
    "id": "ECHPXj8B2aDW",
    "outputId": "ad6b2828-253b-4512-df19-06c7d5fb628c"
   },
   "outputs": [
    {
     "data": {
      "application/vnd.google.colaboratory.intrinsic+json": {
       "type": "string"
      },
      "text/plain": [
       "'Rolando'"
      ]
     },
     "execution_count": 6,
     "metadata": {},
     "output_type": "execute_result"
    }
   ],
   "source": [
    "nombre"
   ]
  },
  {
   "cell_type": "code",
   "execution_count": null,
   "metadata": {
    "id": "ijzZU6Rl2p10"
   },
   "outputs": [],
   "source": [
    "Edad = 19"
   ]
  },
  {
   "cell_type": "code",
   "execution_count": null,
   "metadata": {
    "colab": {
     "base_uri": "https://localhost:8080/"
    },
    "id": "n2SIt51V2wnh",
    "outputId": "b9573a7b-2720-47fc-eb2e-6e136a95092d"
   },
   "outputs": [
    {
     "data": {
      "text/plain": [
       "60"
      ]
     },
     "execution_count": 8,
     "metadata": {},
     "output_type": "execute_result"
    }
   ],
   "source": [
    "Edad"
   ]
  },
  {
   "cell_type": "code",
   "execution_count": null,
   "metadata": {
    "colab": {
     "base_uri": "https://localhost:8080/"
    },
    "id": "dVAKx5IW2-Tm",
    "outputId": "06b1f124-3503-4b10-e279-0992fb799068"
   },
   "outputs": [
    {
     "name": "stdout",
     "output_type": "stream",
     "text": [
      "El nombre es Rolando y su edad es 19 años\n"
     ]
    }
   ],
   "source": [
    "print (f'El nombre es {nombre} y su edad es {Edad} años')"
   ]
  },
  {
   "cell_type": "code",
   "execution_count": null,
   "metadata": {
    "id": "X_5BS8Pv4FPb"
   },
   "outputs": [],
   "source": [
    "Edad = 20"
   ]
  },
  {
   "cell_type": "code",
   "execution_count": null,
   "metadata": {
    "colab": {
     "base_uri": "https://localhost:8080/"
    },
    "id": "PmK8XanM30N3",
    "outputId": "60cc3d63-1db1-462e-a31f-6504d2eb667d"
   },
   "outputs": [
    {
     "name": "stdout",
     "output_type": "stream",
     "text": [
      "El nombres esRolando y su edad es 20 años\n"
     ]
    }
   ],
   "source": [
    "print (f'El nombres es{nombre} y su edad es {Edad} años')"
   ]
  },
  {
   "cell_type": "code",
   "execution_count": null,
   "metadata": {
    "colab": {
     "base_uri": "https://localhost:8080/"
    },
    "id": "ZRivu-Va1EQS",
    "outputId": "ab8e6b34-bc1a-4403-9835-d33fe230a5ba"
   },
   "outputs": [
    {
     "name": "stdout",
     "output_type": "stream",
     "text": [
      "Brasil-ganó-5-titulos mundiales-de fútbol\n",
      "Brasil ganó 5 titulos mundiales de fútbol-"
     ]
    }
   ],
   "source": [
    "print (\"Brasil\", \"ganó\", 5, \"titulos mundiales\", \"de fútbol\", sep=\"-\")\n",
    "print (\"Brasil\", \"ganó\", 5, \"titulos mundiales\", \"de fútbol\", end=\"-\")"
   ]
  },
  {
   "cell_type": "code",
   "execution_count": null,
   "metadata": {
    "id": "fraltSqg3kKn"
   },
   "outputs": [],
   "source": [
    "#pais=\"Argentina\"\n",
    "#titulo=3\n",
    "pais=\"Italia\"\n",
    "titulo=4"
   ]
  },
  {
   "cell_type": "code",
   "execution_count": null,
   "metadata": {
    "colab": {
     "base_uri": "https://localhost:8080/"
    },
    "id": "rI1s6cZj3tSe",
    "outputId": "52ec04c2-f104-48e3-8d9e-69daeff407e8"
   },
   "outputs": [
    {
     "name": "stdout",
     "output_type": "stream",
     "text": [
      "Italia ganó 4 titulos mundiales de fútbol\n"
     ]
    }
   ],
   "source": [
    "print (pais, \"ganó\", titulo, \"titulos mundiales\", \"de fútbol\", sep=\" \")"
   ]
  },
  {
   "cell_type": "markdown",
   "metadata": {
    "id": "AUHIqaNL4AZ6"
   },
   "source": [
    "##Creando mi primera función"
   ]
  },
  {
   "cell_type": "code",
   "execution_count": null,
   "metadata": {
    "id": "xCRGge_E4KZc"
   },
   "outputs": [],
   "source": [
    "def saludos():\n",
    "  nombre = input(\"¿Cual es su nombre?\")\n",
    "  print(f'Hola {nombre}')"
   ]
  },
  {
   "cell_type": "code",
   "execution_count": null,
   "metadata": {
    "colab": {
     "base_uri": "https://localhost:8080/"
    },
    "id": "I0Yu43xY5dA_",
    "outputId": "512cc853-5f88-42e9-e37d-83d992375d64"
   },
   "outputs": [
    {
     "name": "stdout",
     "output_type": "stream",
     "text": [
      "¿Cual es su nombre?Mi moto Susuki\n",
      "Hola Mi moto Susuki\n"
     ]
    }
   ],
   "source": [
    "saludos()"
   ]
  },
  {
   "cell_type": "markdown",
   "metadata": {
    "id": "uui0iQjf5xaU"
   },
   "source": [
    "##Parametros"
   ]
  },
  {
   "cell_type": "code",
   "execution_count": null,
   "metadata": {
    "id": "8UaOgkky50kP"
   },
   "outputs": [],
   "source": [
    "nombre = 'Karla'"
   ]
  },
  {
   "cell_type": "code",
   "execution_count": null,
   "metadata": {
    "id": "k-x2mICR6E7P"
   },
   "outputs": [],
   "source": [
    "def saludos_con_parametros (nombre_de_la_persona):\n",
    "  print(f'Hola {nombre_de_la_persona}')"
   ]
  },
  {
   "cell_type": "code",
   "execution_count": null,
   "metadata": {
    "colab": {
     "base_uri": "https://localhost:8080/"
    },
    "id": "aOioN5lt6VlB",
    "outputId": "7e36644b-3f98-404b-ccb8-394fd7d1775e"
   },
   "outputs": [
    {
     "name": "stdout",
     "output_type": "stream",
     "text": [
      "Hola Karla\n"
     ]
    }
   ],
   "source": [
    "saludos_con_parametros(nombre)"
   ]
  },
  {
   "cell_type": "markdown",
   "metadata": {
    "id": "5HnL5DCn6pDH"
   },
   "source": [
    "##Condicional"
   ]
  },
  {
   "cell_type": "code",
   "execution_count": null,
   "metadata": {
    "colab": {
     "base_uri": "https://localhost:8080/"
    },
    "id": "Wl6VQD9I6rRO",
    "outputId": "6551cc61-d07a-4908-ff1c-9929542281ad"
   },
   "outputs": [
    {
     "name": "stdout",
     "output_type": "stream",
     "text": [
      "Tiene autorizacion para conducir\n"
     ]
    }
   ],
   "source": [
    "Edad = 18\n",
    "def verifica_si_puede_conducir(Edad):\n",
    "  if Edad >=18:\n",
    "    print('Tiene autorizacion para conducir')\n",
    "  else:\n",
    "      print('No tiene autorizacion para conducir')\n",
    "\n",
    "verifica_si_puede_conducir(Edad)"
   ]
  },
  {
   "cell_type": "markdown",
   "metadata": {
    "id": "8rjHGT488lwT"
   },
   "source": [
    "##Convirtiendo tipo entero"
   ]
  },
  {
   "cell_type": "code",
   "execution_count": null,
   "metadata": {
    "colab": {
     "base_uri": "https://localhost:8080/"
    },
    "id": "FBXijNUt8pIm",
    "outputId": "6c2d4e81-8f58-4464-9bcb-a56f4911da0f"
   },
   "outputs": [
    {
     "name": "stdout",
     "output_type": "stream",
     "text": [
      "¿Cual es su edad?20\n",
      "Tiene autorizacion para conducir\n"
     ]
    }
   ],
   "source": [
    "def verifica_si_puede_conducir_sin_parametros():\n",
    "  edad = input ('¿Cual es su edad?')\n",
    "  edad = int(edad)\n",
    "  if edad >= 18:\n",
    "    print('Tiene autorizacion para conducir')\n",
    "  else:\n",
    "      print('No tiene autorizacion para conducir')\n",
    "\n",
    "verifica_si_puede_conducir_sin_parametros()"
   ]
  },
  {
   "cell_type": "markdown",
   "metadata": {
    "id": "BGy-UZt6_AOB"
   },
   "source": [
    "#Lista"
   ]
  },
  {
   "cell_type": "code",
   "execution_count": null,
   "metadata": {
    "colab": {
     "base_uri": "https://localhost:8080/"
    },
    "id": "Riax0chP_CNO",
    "outputId": "31a34049-48b2-485a-a17d-54b9f0d001e5"
   },
   "outputs": [
    {
     "data": {
      "text/plain": [
       "22"
      ]
     },
     "execution_count": 33,
     "metadata": {},
     "output_type": "execute_result"
    }
   ],
   "source": [
    "edad = 22\n",
    "edad"
   ]
  },
  {
   "cell_type": "code",
   "execution_count": null,
   "metadata": {
    "colab": {
     "base_uri": "https://localhost:8080/"
    },
    "id": "u6yEjL9d_Zfv",
    "outputId": "3a8fc869-aac4-4222-86d0-72fdcc59390a"
   },
   "outputs": [
    {
     "data": {
      "text/plain": [
       "int"
      ]
     },
     "execution_count": 34,
     "metadata": {},
     "output_type": "execute_result"
    }
   ],
   "source": [
    "type(edad)"
   ]
  },
  {
   "cell_type": "code",
   "execution_count": null,
   "metadata": {
    "colab": {
     "base_uri": "https://localhost:8080/"
    },
    "id": "dmwSmawS_uJc",
    "outputId": "5054e659-63a4-4b55-b773-a7181884808c"
   },
   "outputs": [
    {
     "data": {
      "text/plain": [
       "str"
      ]
     },
     "execution_count": 36,
     "metadata": {},
     "output_type": "execute_result"
    }
   ],
   "source": [
    "nombre = 'Gabito'\n",
    "type(nombre)"
   ]
  },
  {
   "cell_type": "code",
   "execution_count": null,
   "metadata": {
    "colab": {
     "base_uri": "https://localhost:8080/"
    },
    "id": "fjriiYFP_9dH",
    "outputId": "771eccd7-c34e-4bf2-e8b0-8ebac23c6450"
   },
   "outputs": [
    {
     "data": {
      "text/plain": [
       "list"
      ]
     },
     "execution_count": 37,
     "metadata": {},
     "output_type": "execute_result"
    }
   ],
   "source": [
    "edades = [18, 22, 15, 50]\n",
    "type(edades)"
   ]
  },
  {
   "cell_type": "code",
   "execution_count": null,
   "metadata": {
    "colab": {
     "base_uri": "https://localhost:8080/"
    },
    "id": "odDO_1RVAUOP",
    "outputId": "327bfe93-c70a-48ce-d769-687497343e5f"
   },
   "outputs": [
    {
     "data": {
      "text/plain": [
       "15"
      ]
     },
     "execution_count": 38,
     "metadata": {},
     "output_type": "execute_result"
    }
   ],
   "source": [
    "edades[2]"
   ]
  },
  {
   "cell_type": "code",
   "execution_count": null,
   "metadata": {
    "id": "m6zVZOb-Az9Y"
   },
   "outputs": [],
   "source": [
    "edades = [18, 22, 15, 50]\n",
    "#         0   1   2   3\n",
    "#         0  -3  -2  -1"
   ]
  },
  {
   "cell_type": "code",
   "execution_count": null,
   "metadata": {
    "colab": {
     "base_uri": "https://localhost:8080/"
    },
    "id": "1U9r2Zy6BWAf",
    "outputId": "1ecd74f2-5ca9-482a-ec16-3735f9a19248"
   },
   "outputs": [
    {
     "data": {
      "text/plain": [
       "22"
      ]
     },
     "execution_count": 40,
     "metadata": {},
     "output_type": "execute_result"
    }
   ],
   "source": [
    "edades[-3]"
   ]
  },
  {
   "cell_type": "code",
   "execution_count": null,
   "metadata": {
    "colab": {
     "base_uri": "https://localhost:8080/"
    },
    "id": "qnWNxDX-Boem",
    "outputId": "4e07ccee-ee0a-4b15-8ac8-4eed806cf429"
   },
   "outputs": [
    {
     "data": {
      "text/plain": [
       "[18, 22, 15]"
      ]
     },
     "execution_count": 45,
     "metadata": {},
     "output_type": "execute_result"
    }
   ],
   "source": [
    "edades[0:3]"
   ]
  },
  {
   "cell_type": "code",
   "execution_count": null,
   "metadata": {
    "colab": {
     "base_uri": "https://localhost:8080/"
    },
    "id": "ZRpLJkdMB-7j",
    "outputId": "0b0a17fa-1b84-48ed-86b5-9d4bd23c5a2a"
   },
   "outputs": [
    {
     "data": {
      "text/plain": [
       "[22, 15, 50]"
      ]
     },
     "execution_count": 47,
     "metadata": {},
     "output_type": "execute_result"
    }
   ],
   "source": [
    "edades[1:]"
   ]
  },
  {
   "cell_type": "markdown",
   "metadata": {
    "id": "Uj_iJo9JCbYj"
   },
   "source": [
    "##Lazos y loops"
   ]
  },
  {
   "cell_type": "code",
   "execution_count": null,
   "metadata": {
    "colab": {
     "base_uri": "https://localhost:8080/"
    },
    "id": "k1c3zBeKCa1B",
    "outputId": "6ee8374d-5ca1-4e10-bddd-3f3bd9da610d"
   },
   "outputs": [
    {
     "data": {
      "text/plain": [
       "[18, 22, 15, 50]"
      ]
     },
     "execution_count": 48,
     "metadata": {},
     "output_type": "execute_result"
    }
   ],
   "source": [
    "edades"
   ]
  },
  {
   "cell_type": "code",
   "execution_count": null,
   "metadata": {
    "colab": {
     "base_uri": "https://localhost:8080/"
    },
    "id": "eN9VwCcIDc0K",
    "outputId": "ec55113a-ba16-4ef9-9dfe-19f89c26df8c"
   },
   "outputs": [
    {
     "name": "stdout",
     "output_type": "stream",
     "text": [
      "18 años de edad, Tiene autorizacion para conducir\n",
      "22 años de edad, Tiene autorizacion para conducir\n",
      "15 años de edad, No tiene autorizacion para conducir\n",
      "50 años de edad, Tiene autorizacion para conducir\n"
     ]
    }
   ],
   "source": [
    "#for fuera de la funcion\n",
    "\n",
    "def verifica_si_puede_conducir(edad):\n",
    "  if edad >= 18:\n",
    "    print(f\"{edad} años de edad, Tiene autorizacion para conducir\")\n",
    "  else:\n",
    "    print(f\"{edad} años de edad, No tiene autorizacion para conducir\")\n",
    "\n",
    "for edad in edades:\n",
    "  verifica_si_puede_conducir(edad)"
   ]
  },
  {
   "cell_type": "code",
   "execution_count": null,
   "metadata": {
    "colab": {
     "base_uri": "https://localhost:8080/"
    },
    "id": "iX3bLXuSExE2",
    "outputId": "c1823e77-619e-42c9-ced7-c466f73b7310"
   },
   "outputs": [
    {
     "name": "stdout",
     "output_type": "stream",
     "text": [
      "18 años de edad, Tiene autorizacion para conducir\n",
      "22 años de edad, Tiene autorizacion para conducir\n",
      "15 años de edad, No tiene autorizacion para conducir\n",
      "50 años de edad, Tiene autorizacion para conducir\n"
     ]
    }
   ],
   "source": [
    "def verifica_si_puede_conducir(edad):\n",
    "  for edad in edades:\n",
    "    if edad >= 18:\n",
    "      print(f\"{edad} años de edad, Tiene autorizacion para conducir\")\n",
    "    else:\n",
    "      print(f\"{edad} años de edad, No tiene autorizacion para conducir\")\n",
    "\n",
    "verifica_si_puede_conducir(edades)"
   ]
  },
  {
   "cell_type": "markdown",
   "metadata": {
    "id": "lyMaelQCFg39"
   },
   "source": [
    "##Booleano"
   ]
  },
  {
   "cell_type": "code",
   "execution_count": null,
   "metadata": {
    "colab": {
     "base_uri": "https://localhost:8080/"
    },
    "id": "l-93nU35FqpC",
    "outputId": "9772bbc8-f80c-4d85-da6f-fa18c256f3dd"
   },
   "outputs": [
    {
     "data": {
      "text/plain": [
       "True"
      ]
     },
     "execution_count": 54,
     "metadata": {},
     "output_type": "execute_result"
    }
   ],
   "source": [
    "edad = 18\n",
    "edad >= 18"
   ]
  },
  {
   "cell_type": "code",
   "execution_count": null,
   "metadata": {
    "colab": {
     "base_uri": "https://localhost:8080/"
    },
    "id": "CtwYofLaF-B-",
    "outputId": "5d169dbc-4ee5-4f48-d431-c65dacec8d01"
   },
   "outputs": [
    {
     "data": {
      "text/plain": [
       "False"
      ]
     },
     "execution_count": 55,
     "metadata": {},
     "output_type": "execute_result"
    }
   ],
   "source": [
    "edad = 12\n",
    "edad >= 18"
   ]
  },
  {
   "cell_type": "code",
   "execution_count": null,
   "metadata": {
    "id": "qw-PHDbwGAU-"
   },
   "outputs": [],
   "source": [
    "autorizaciones = []\n",
    "edades = [20, 14, 40]\n",
    "\n",
    "def verifica_si_puede_conducir(edades, autorizaciones):\n",
    "  for edad in edades:\n",
    "    if edad >=18:\n",
    "      autorizaciones.append(True)\n",
    "#append es agregar el valor\n",
    "    else:\n",
    "      autorizaciones.append(False)\n",
    "\n",
    "verifica_si_puede_conducir(edades, autorizaciones)"
   ]
  },
  {
   "cell_type": "code",
   "execution_count": null,
   "metadata": {
    "colab": {
     "base_uri": "https://localhost:8080/"
    },
    "id": "LpZ2ukPrHKUO",
    "outputId": "5d523a3e-0c0a-4372-9e59-1289b2079725"
   },
   "outputs": [
    {
     "data": {
      "text/plain": [
       "[True, False, True]"
      ]
     },
     "execution_count": 58,
     "metadata": {},
     "output_type": "execute_result"
    }
   ],
   "source": [
    "autorizaciones"
   ]
  },
  {
   "cell_type": "code",
   "execution_count": null,
   "metadata": {
    "colab": {
     "base_uri": "https://localhost:8080/"
    },
    "id": "ZdEXXwC3HYQf",
    "outputId": "51e8f6f3-f4ca-4fa0-a0c6-60ec75f3bc6e"
   },
   "outputs": [
    {
     "name": "stdout",
     "output_type": "stream",
     "text": [
      "Tiene autorizacion para conducir\n",
      "No tiene autorizacion para conducir\n",
      "Tiene autorizacion para conducir\n"
     ]
    }
   ],
   "source": [
    "for autorizacion in autorizaciones:\n",
    "  if autorizacion == True:\n",
    "    print(\"Tiene autorizacion para conducir\")\n",
    "  else:\n",
    "    print(\"No tiene autorizacion para conducir\")"
   ]
  },
  {
   "cell_type": "markdown",
   "metadata": {
    "id": "4H9bYUB5H7aA"
   },
   "source": [
    "##Tipos en una lista"
   ]
  },
  {
   "cell_type": "code",
   "execution_count": null,
   "metadata": {
    "colab": {
     "base_uri": "https://localhost:8080/"
    },
    "id": "O1FgUY3kH9GL",
    "outputId": "2b079aba-c37f-4565-fe61-1ba25d541011"
   },
   "outputs": [
    {
     "name": "stdout",
     "output_type": "stream",
     "text": [
      "El elemento Mauricio es del tipo:  <class 'str'>\n",
      "El elemento 28 es del tipo:  <class 'int'>\n",
      "El elemento True es del tipo:  <class 'bool'>\n",
      "El elemento 18 es del tipo:  <class 'str'>\n"
     ]
    }
   ],
   "source": [
    "lista = [\"Mauricio\", 28, True, \"18\"]\n",
    "\n",
    "for elemento in lista:\n",
    "  print(f\"El elemento {elemento} es del tipo: \", type(elemento))\n",
    "\n"
   ]
  },
  {
   "cell_type": "markdown",
   "metadata": {
    "id": "OlDE1iK6Iu4W"
   },
   "source": [
    "##Import"
   ]
  },
  {
   "cell_type": "code",
   "execution_count": null,
   "metadata": {
    "id": "z6qkPnHaIwa0"
   },
   "outputs": [],
   "source": [
    "from random import randrange, seed"
   ]
  },
  {
   "cell_type": "code",
   "execution_count": null,
   "metadata": {
    "id": "GlK-qgYXI88L"
   },
   "outputs": [],
   "source": [
    "seed(11)"
   ]
  },
  {
   "cell_type": "code",
   "execution_count": null,
   "metadata": {
    "colab": {
     "base_uri": "https://localhost:8080/"
    },
    "id": "pQ1d1QHwJCCp",
    "outputId": "581018d5-f0c0-4b25-947b-917b79ca301e"
   },
   "outputs": [
    {
     "data": {
      "text/plain": [
       "10"
      ]
     },
     "execution_count": 83,
     "metadata": {},
     "output_type": "execute_result"
    }
   ],
   "source": [
    "randrange(0,11)"
   ]
  },
  {
   "cell_type": "code",
   "execution_count": null,
   "metadata": {
    "colab": {
     "base_uri": "https://localhost:8080/"
    },
    "id": "QfJSPYn_J0M2",
    "outputId": "3252eb17-56fa-44d6-ce8c-a20d4823374b"
   },
   "outputs": [
    {
     "data": {
      "text/plain": [
       "[9, 0, 7, 5, 7, 9, 3, 8]"
      ]
     },
     "execution_count": 86,
     "metadata": {},
     "output_type": "execute_result"
    }
   ],
   "source": [
    "notas_matematica = []\n",
    "\n",
    "for notas in range (8):\n",
    "  notas_matematica.append(randrange(0,11))\n",
    "\n",
    "notas_matematica"
   ]
  },
  {
   "cell_type": "code",
   "execution_count": null,
   "metadata": {
    "colab": {
     "base_uri": "https://localhost:8080/"
    },
    "id": "sQa_gT_7Kkwo",
    "outputId": "4b47e5f5-864f-47c7-b588-e5a33ddcc2d2"
   },
   "outputs": [
    {
     "data": {
      "text/plain": [
       "8"
      ]
     },
     "execution_count": 87,
     "metadata": {},
     "output_type": "execute_result"
    }
   ],
   "source": [
    "len(notas_matematica)"
   ]
  },
  {
   "cell_type": "markdown",
   "metadata": {
    "id": "xVlAKYjuKfCG"
   },
   "source": [
    "##Matplotlib"
   ]
  },
  {
   "cell_type": "code",
   "execution_count": null,
   "metadata": {
    "id": "rBiTcRXdKqzt"
   },
   "outputs": [],
   "source": [
    "import matplotlib.pyplot as plt"
   ]
  },
  {
   "cell_type": "code",
   "execution_count": null,
   "metadata": {
    "colab": {
     "base_uri": "https://localhost:8080/",
     "height": 472
    },
    "id": "X68OY2VILHJC",
    "outputId": "b1913e54-5779-4670-c2d6-1140a3747912"
   },
   "outputs": [
    {
     "data": {
      "image/png": "[encoded data removed]",
      "text/plain": [
       "<Figure size 640x480 with 1 Axes>"
      ]
     },
     "metadata": {},
     "output_type": "display_data"
    }
   ],
   "source": [
    "x = list(range(1,9))\n",
    "y = notas_matematica\n",
    "#plt.plot(x, y, marker=\"o\")\n",
    "plt.bar(x, y)\n",
    "plt.title(\"Notas de matematica\")\n",
    "plt.xlabel(\"Exámenes\")\n",
    "plt.ylabel(\"Notas\")\n",
    "plt.show()"
   ]
  },
  {
   "cell_type": "markdown",
   "metadata": {
    "id": "7CtzVqIo4nAc"
   },
   "source": [
    "##Práctica de juego dinamico 08 08 2023"
   ]
  },
  {
   "cell_type": "code",
   "execution_count": null,
   "metadata": {
    "colab": {
     "base_uri": "https://localhost:8080/"
    },
    "id": "tQ2CHFWQ4mrN",
    "outputId": "27ade583-b1fb-43bb-f517-9c9ebc474b7a"
   },
   "outputs": [
    {
     "name": "stdout",
     "output_type": "stream",
     "text": [
      "°°°°°°°°°°°°°°°°°°°°°°°°°°°°°°°°°\n",
      "Bienvenido al juego de adivinanza\n",
      "°°°°°°°°°°°°°°°°°°°°°°°°°°°°°°°°°\n",
      "Digite un número 47\n",
      "Digitaste... 47\n",
      "Lo siento ... no lograste adivinar el número\n",
      "Fin del juego\n"
     ]
    }
   ],
   "source": [
    "print(\"°°°°°°°°°°°°°°°°°°°°°°°°°°°°°°°°°\")\n",
    "print(\"Bienvenido al juego de adivinanza\")\n",
    "print(\"°°°°°°°°°°°°°°°°°°°°°°°°°°°°°°°°°\")\n",
    "\n",
    "numero_secreto=42\n",
    "\n",
    "entrada= int(input(\"Digite un número \"))\n",
    "\n",
    "print(\"Digitaste...\", entrada)\n",
    "\n",
    "if(entrada==numero_secreto):\n",
    "  print(\"Felicitaciones !!! ... adivinaste el número\")\n",
    "else:\n",
    "  print(\"Lo siento ... no lograste adivinar el número\")\n",
    "\n",
    "print(\"Fin del juego\")\n"
   ]
  },
  {
   "cell_type": "markdown",
   "metadata": {
    "id": "MKHHNzId7KIu"
   },
   "source": [
    "##Comparación si las variables son del mismo tipo"
   ]
  },
  {
   "cell_type": "code",
   "execution_count": null,
   "metadata": {
    "colab": {
     "base_uri": "https://localhost:8080/"
    },
    "id": "ehyav8Pj7N7h",
    "outputId": "b514173d-a789-416c-cbad-40ef6122717f"
   },
   "outputs": [
    {
     "data": {
      "text/plain": [
       "int"
      ]
     },
     "execution_count": 19,
     "metadata": {},
     "output_type": "execute_result"
    }
   ],
   "source": [
    "type(numero_secreto)"
   ]
  },
  {
   "cell_type": "markdown",
   "metadata": {
    "id": "2mhNAr8V7rqm"
   },
   "source": [
    "##Guiar al usuario si el número ingresado fue mayor o menor al número que se tiene que adivinar"
   ]
  },
  {
   "cell_type": "code",
   "execution_count": null,
   "metadata": {
    "colab": {
     "base_uri": "https://localhost:8080/"
    },
    "id": "3d2E4Pp_7zCi",
    "outputId": "f72b5e22-ce77-4a6b-8975-14a9c343056d"
   },
   "outputs": [
    {
     "name": "stdout",
     "output_type": "stream",
     "text": [
      "°°°°°°°°°°°°°°°°°°°°°°°°°°°°°°°°°\n",
      "Bienvenido al juego de adivinanza\n",
      "°°°°°°°°°°°°°°°°°°°°°°°°°°°°°°°°°\n",
      "Digite un número 42\n",
      "Digitaste... 42\n",
      "Felicitaciones !!! ... adivinaste el número\n",
      "Fin del juego\n"
     ]
    }
   ],
   "source": [
    "print(\"°°°°°°°°°°°°°°°°°°°°°°°°°°°°°°°°°\")\n",
    "print(\"Bienvenido al juego de adivinanza\")\n",
    "print(\"°°°°°°°°°°°°°°°°°°°°°°°°°°°°°°°°°\")\n",
    "\n",
    "numero_secreto=42\n",
    "\n",
    "entrada= int(input(\"Digite un número \"))\n",
    "\n",
    "print(\"Digitaste...\", entrada)\n",
    "\n",
    "acertaste=entrada==numero_secreto #Iguales\n",
    "mayor=entrada>numero_secreto #Entrada es mayor\n",
    "menor=entrada<numero_secreto #Entrada es menor\n",
    "\n",
    "if(acertaste):\n",
    "  print(\"Felicitaciones !!! ... adivinaste el número\")\n",
    "elif(mayor):\n",
    "  print(\"Lo siento ... el número que ingresaste es mayor que el secreto\")\n",
    "else:\n",
    "  print(\"Lo siento ... el número que ingresaste es menor que el secreto\")\n",
    "\n",
    "print(\"Fin del juego\")"
   ]
  },
  {
   "cell_type": "code",
   "execution_count": null,
   "metadata": {
    "colab": {
     "base_uri": "https://localhost:8080/"
    },
    "id": "ZolJ1jr2-b2m",
    "outputId": "52584128-7f63-4cd2-81ba-0236f44a7485"
   },
   "outputs": [
    {
     "name": "stdout",
     "output_type": "stream",
     "text": [
      "Intento:  1  de 6\n",
      "Digite un número 32\n",
      "Digitaste ...  32\n",
      "Lo siento, el número que ingresaste es menor al secreto\n",
      "\n",
      "Intento:  2  de 6\n",
      "Digite un número 42\n",
      "Digitaste ...  42\n",
      "Felicitaciones, adivinaste el número\n",
      "\n",
      "Fin del juego\n"
     ]
    }
   ],
   "source": [
    "##Ahora con while\n",
    "numero_secreto=42\n",
    "total_intentos=6\n",
    "iteracion=1\n",
    "\n",
    "while(iteracion<=total_intentos):\n",
    "  print(\"Intento: \",iteracion,\" de\",total_intentos)\n",
    "  entrada=input(\"Digite un número \")\n",
    "  entrada=int(entrada)\n",
    "  print(\"Digitaste ... \", entrada)\n",
    "\n",
    "  acertaste=entrada==numero_secreto #Iguales\n",
    "  mayor=entrada>numero_secreto #Entrada es mayor\n",
    "  menor=entrada<numero_secreto #Entrada es menor\n",
    "\n",
    "  if(acertaste):\n",
    "    print(\"Felicitaciones, adivinaste el número\")\n",
    "    print()\n",
    "    break\n",
    "  elif(mayor):\n",
    "    print(\"Lo siento, el número que ingresaste es mayor al secreto\")\n",
    "    print()\n",
    "  else:\n",
    "    print(\"Lo siento, el número que ingresaste es menor al secreto\")\n",
    "    print()\n",
    "\n",
    "  iteracion = iteracion + 1\n",
    "print(\"Fin del juego\")\n"
   ]
  },
  {
   "cell_type": "markdown",
   "metadata": {
    "id": "FvfVvKSyCPi2"
   },
   "source": [
    "##Mejorando aún el código.....formateando los strings"
   ]
  },
  {
   "cell_type": "code",
   "execution_count": null,
   "metadata": {
    "id": "p_cyZj0eCT5v"
   },
   "outputs": [],
   "source": [
    "print(\"°°°°°°°°°°°°°°°°°°°°°°°°°°°°°°°°°\")\n",
    "print(\"Bienvenido al juego de adivinanza\")\n",
    "print(\"°°°°°°°°°°°°°°°°°°°°°°°°°°°°°°°°°\")\n",
    "numero_secreto=42\n",
    "total_intentos=6\n",
    "iteracion=1\n",
    "\n",
    "while(iteracion<=total_intentos):\n",
    "  print(\"Intento: {} de {}\".format(iteracion,total_intentos))\n",
    "  entrada=input(\"Digite un número \")\n",
    "  entrada=int(entrada)\n",
    "  print(\"Digitaste ... \", entrada)\n",
    "\n",
    "  acertaste=entrada==numero_secreto #Iguales\n",
    "  mayor=entrada>numero_secreto #Entrada es mayor\n",
    "  menor=entrada<numero_secreto #Entrada es menor\n",
    "\n",
    "  if(acertaste):\n",
    "    print(\"Felicitaciones, adivinaste el número\")\n",
    "    print()\n",
    "    break\n",
    "  elif(mayor):\n",
    "    print(\"Lo siento, el número que ingresaste es mayor al secreto\")\n",
    "    print()\n",
    "  else:\n",
    "    print(\"Lo siento, el número que ingresaste es menor al secreto\")\n",
    "    print()\n",
    "\n",
    "  iteracion = iteracion + 1\n",
    "print(\"Fin del juego\")\n"
   ]
  },
  {
   "cell_type": "markdown",
   "metadata": {
    "id": "Qd-3DWQEDi2l"
   },
   "source": [
    "###Utilizando otra sentencia para LOOPS    for i range(n1, n2, n3) y controlar que el número ingresado sea positivo y si adivinó del total de intentos, para el juego"
   ]
  },
  {
   "cell_type": "code",
   "execution_count": null,
   "metadata": {
    "colab": {
     "base_uri": "https://localhost:8080/"
    },
    "id": "1SzGCHSJEyY5",
    "outputId": "70895779-ad0b-44ef-ab86-fbf61eac0b45"
   },
   "outputs": [
    {
     "name": "stdout",
     "output_type": "stream",
     "text": [
      "1\n",
      "3\n",
      "5\n",
      "7\n",
      "9\n"
     ]
    }
   ],
   "source": [
    "for i in range(1, 10, 2):\n",
    "  print(i)"
   ]
  },
  {
   "cell_type": "code",
   "execution_count": null,
   "metadata": {
    "colab": {
     "base_uri": "https://localhost:8080/"
    },
    "id": "z--HubbOF8TC",
    "outputId": "b7f2abfc-b6ec-46ca-b275-36d01fb79fc3"
   },
   "outputs": [
    {
     "name": "stdout",
     "output_type": "stream",
     "text": [
      "20\n",
      "18\n",
      "16\n",
      "14\n",
      "12\n",
      "10\n",
      "8\n",
      "6\n"
     ]
    }
   ],
   "source": [
    "for i in range(20, 4, -2):\n",
    "  print(i)"
   ]
  },
  {
   "cell_type": "code",
   "execution_count": null,
   "metadata": {
    "colab": {
     "base_uri": "https://localhost:8080/"
    },
    "id": "yXbPGOEQD32O",
    "outputId": "10c5a269-2518-4634-d3bd-15a75c860db0"
   },
   "outputs": [
    {
     "name": "stdout",
     "output_type": "stream",
     "text": [
      "°°°°°°°°°°°°°°°°°°°°°°°°°°°°°°°°°\n",
      "Bienvenido al juego de adivinanza\n",
      "\n",
      "°°°°°°°°°°°°°°°°°°°°°°°°°°°°°°°°°\n",
      "Intento: 1 de 6 \n",
      "Digite un número 42\n",
      "Digitaste ...  42\n",
      "Lo siento, el número que ingresaste es menor al secreto\n",
      "Intento: 2 de 6 \n",
      "Digite un número 77\n",
      "Digitaste ...  77\n",
      "Felicitaciones, adivinaste el número\n",
      "Fin del juego\n"
     ]
    }
   ],
   "source": [
    "print(\"°°°°°°°°°°°°°°°°°°°°°°°°°°°°°°°°°\")\n",
    "print(\"Bienvenido al juego de adivinanza\")\n",
    "print()\n",
    "print(\"°°°°°°°°°°°°°°°°°°°°°°°°°°°°°°°°°\")\n",
    "\n",
    "numero_secreto=77\n",
    "total_intentos=6\n",
    "iteracion=1\n",
    "\n",
    "for iteraccion in range (1, total_intentos +1):\n",
    "  print(\"Intento: {} de {} \" .format(iteraccion,total_intentos))\n",
    "  entrada=input(\"Digite un número \")\n",
    "  entrada=int ( entrada)\n",
    "  print(\"Digitaste ... \", entrada)\n",
    "  if(entrada < 1 or entrada > 100):\n",
    "    print('Ingrese un numero entre 1 y 100')\n",
    "    continue\n",
    "\n",
    "  acertaste=entrada==numero_secreto #Iguales\n",
    "  mayor=entrada>numero_secreto #Entrada es mayor\n",
    "  menor=entrada<numero_secreto #Entrada es menor\n",
    "\n",
    "  if(acertaste):\n",
    "    print(\"Felicitaciones, adivinaste el número\")\n",
    "    break\n",
    "  elif(mayor):\n",
    "    print(\"Lo siento, el número que ingresaste es mayor al secreto\")\n",
    "  else:\n",
    "    print(\"Lo siento, el número que ingresaste es menor al secreto\")\n",
    "\n",
    "  iteracion = iteracion + 1\n",
    "print(\"Fin del juego\")"
   ]
  },
  {
   "cell_type": "markdown",
   "metadata": {
    "id": "4TkOE-CDH_LO"
   },
   "source": [
    "##Generar un número aleatorio"
   ]
  },
  {
   "cell_type": "code",
   "execution_count": null,
   "metadata": {
    "colab": {
     "base_uri": "https://localhost:8080/"
    },
    "id": "dWcvyug0ICPI",
    "outputId": "e887fb2a-863a-4354-f5fc-1a838ee5ce89"
   },
   "outputs": [
    {
     "data": {
      "text/plain": [
       "0.9418489890682795"
      ]
     },
     "execution_count": 41,
     "metadata": {},
     "output_type": "execute_result"
    }
   ],
   "source": [
    "##Generar número random\n",
    "import random\n",
    "random.random()"
   ]
  },
  {
   "cell_type": "code",
   "execution_count": null,
   "metadata": {
    "colab": {
     "base_uri": "https://localhost:8080/"
    },
    "id": "CkAuzJgnI9_r",
    "outputId": "9ec01084-51c7-4000-adb2-3e009e23c516"
   },
   "outputs": [
    {
     "data": {
      "text/plain": [
       "38.990963285309455"
      ]
     },
     "execution_count": 47,
     "metadata": {},
     "output_type": "execute_result"
    }
   ],
   "source": [
    "##Generar número random entre 0 y 100\n",
    "numero_random=random.random()*100\n",
    "numero_random"
   ]
  },
  {
   "cell_type": "code",
   "execution_count": null,
   "metadata": {
    "colab": {
     "base_uri": "https://localhost:8080/"
    },
    "id": "uJk4TA2dJKHl",
    "outputId": "e69edd4b-ebe8-43ff-a6fb-1b6f9e0678d8"
   },
   "outputs": [
    {
     "data": {
      "text/plain": [
       "2"
      ]
     },
     "execution_count": 50,
     "metadata": {},
     "output_type": "execute_result"
    }
   ],
   "source": [
    "##Generar número random entre 0 y 100\n",
    "numero_random=round(random.random()*100)\n",
    "numero_random"
   ]
  },
  {
   "cell_type": "code",
   "execution_count": null,
   "metadata": {
    "colab": {
     "base_uri": "https://localhost:8080/"
    },
    "id": "SMG_jUJOJ2U3",
    "outputId": "16d8dad5-5ddb-4d76-edf7-08d187dd1e90"
   },
   "outputs": [
    {
     "data": {
      "text/plain": [
       "33"
      ]
     },
     "execution_count": 51,
     "metadata": {},
     "output_type": "execute_result"
    }
   ],
   "source": [
    "##Rango en random\n",
    "numero_random=random.randrange(1,101)\n",
    "numero_random"
   ]
  },
  {
   "cell_type": "markdown",
   "metadata": {
    "id": "o7-x1ZLfKIgC"
   },
   "source": [
    "##Mejorando el código del juego, con número aleatorio"
   ]
  },
  {
   "cell_type": "code",
   "execution_count": null,
   "metadata": {
    "colab": {
     "base_uri": "https://localhost:8080/"
    },
    "id": "-V2JUlU1KHpl",
    "outputId": "68241635-ebf8-44c5-ff66-40e6f095d1f8"
   },
   "outputs": [
    {
     "name": "stdout",
     "output_type": "stream",
     "text": [
      "°°°°°°°°°°°°°°°°°°°°°°°°°°°°°°°°°\n",
      "Bienvenido al juego de adivinanza\n",
      "\n",
      "°°°°°°°°°°°°°°°°°°°°°°°°°°°°°°°°°\n",
      "Intento: 1 de 15\n",
      "Digite un número entre 1 y 10030\n",
      "Digitaste... 30\n",
      "Lo siento, el número que ingresaste es menor al secreto\n",
      "Intento: 2 de 15\n",
      "Digite un número entre 1 y 10020\n",
      "Digitaste... 20\n",
      "Lo siento, el número que ingresaste es menor al secreto\n",
      "Intento: 3 de 15\n",
      "Digite un número entre 1 y 10010\n",
      "Digitaste... 10\n",
      "Lo siento, el número que ingresaste es menor al secreto\n",
      "Intento: 4 de 15\n",
      "Digite un número entre 1 y 10050\n",
      "Digitaste... 50\n",
      "Lo siento, el número que ingresaste es mayor al secreto\n",
      "Intento: 5 de 15\n",
      "Digite un número entre 1 y 10040\n",
      "Digitaste... 40\n",
      "Lo siento, el número que ingresaste es mayor al secreto\n",
      "Intento: 6 de 15\n",
      "Digite un número entre 1 y 10039\n",
      "Digitaste... 39\n",
      "Lo siento, el número que ingresaste es mayor al secreto\n",
      "Intento: 7 de 15\n",
      "Digite un número entre 1 y 10038\n",
      "Digitaste... 38\n",
      "Lo siento, el número que ingresaste es mayor al secreto\n",
      "Intento: 8 de 15\n",
      "Digite un número entre 1 y 10034\n",
      "Digitaste... 34\n",
      "Lo siento, el número que ingresaste es mayor al secreto\n",
      "Intento: 9 de 15\n",
      "Digite un número entre 1 y 10032\n",
      "Digitaste... 32\n",
      "Felicitaciones, adivinaste el número\n",
      "Fin del juego\n"
     ]
    }
   ],
   "source": [
    "import random\n",
    "print(\"°°°°°°°°°°°°°°°°°°°°°°°°°°°°°°°°°\")\n",
    "print(\"Bienvenido al juego de adivinanza\")\n",
    "print()\n",
    "print(\"°°°°°°°°°°°°°°°°°°°°°°°°°°°°°°°°°\")\n",
    "\n",
    "numero_secreto=random.randrange(1,101)\n",
    "total_intentos=15\n",
    "\n",
    "for iteracion in range (1, total_intentos +1):\n",
    "  print(\"Intento: {} de {}\".format(iteracion,total_intentos))\n",
    "  entrada=input(\"Digite un número entre 1 y 100\")\n",
    "  entrada=int(entrada)\n",
    "  print(\"Digitaste...\",entrada)\n",
    "  if(entrada<1 or entrada>100):\n",
    "    print(\"Ingresar un número entre 1 y 100\")\n",
    "    continue\n",
    "\n",
    "  acertaste=entrada==numero_secreto #Iguales\n",
    "  mayor=entrada>numero_secreto #Entrada es mayor\n",
    "  menor=entrada<numero_secreto #Entrada es menor\n",
    "\n",
    "  if(acertaste):\n",
    "    print(\"Felicitaciones, adivinaste el número\")\n",
    "    break\n",
    "  elif(mayor):\n",
    "    print(\"Lo siento, el número que ingresaste es mayor al secreto\")\n",
    "  else:\n",
    "    print(\"Lo siento, el número que ingresaste es menor al secreto\")\n",
    "\n",
    "\n",
    "print(\"Fin del juego\")"
   ]
  },
  {
   "cell_type": "markdown",
   "metadata": {
    "id": "NFpTKY7vMutF"
   },
   "source": [
    "##Definiendo la dificultad en el código"
   ]
  },
  {
   "cell_type": "code",
   "execution_count": null,
   "metadata": {
    "colab": {
     "base_uri": "https://localhost:8080/"
    },
    "id": "qA3vpR3pMzHA",
    "outputId": "73590f5e-23e5-47b4-f728-ab0309f3f715"
   },
   "outputs": [
    {
     "name": "stdout",
     "output_type": "stream",
     "text": [
      "°°°°°°°°°°°°°°°°°°°°°°°°°°°°°°°°°\n",
      "Bienvenido al juego de adivinanza\n",
      "\n",
      "°°°°°°°°°°°°°°°°°°°°°°°°°°°°°°°°°\n",
      "Seleccione el nivel de dificultad\n",
      "(1) Fácil (2) Medio (3) Dificil\n",
      "Ingrese nivel de dificultad: 3\n",
      "Intento: 1 de 5\n",
      "Digite un número entre 1 y 10050\n",
      "Digitaste... 50\n",
      "Lo siento, el número que ingresaste es mayor al secreto\n",
      "Intento: 2 de 5\n",
      "Digite un número entre 1 y 10025\n",
      "Digitaste... 25\n",
      "Lo siento, el número que ingresaste es menor al secreto\n",
      "Intento: 3 de 5\n",
      "Digite un número entre 1 y 10035\n",
      "Digitaste... 35\n",
      "Lo siento, el número que ingresaste es mayor al secreto\n",
      "Intento: 4 de 5\n",
      "Digite un número entre 1 y 10030\n",
      "Digitaste... 30\n",
      "Lo siento, el número que ingresaste es menor al secreto\n",
      "Intento: 5 de 5\n",
      "Digite un número entre 1 y 10032\n",
      "Digitaste... 32\n",
      "Felicitaciones, adivinaste el número\n",
      "Fin del juego\n"
     ]
    }
   ],
   "source": [
    "import random\n",
    "print(\"°°°°°°°°°°°°°°°°°°°°°°°°°°°°°°°°°\")\n",
    "print(\"Bienvenido al juego de adivinanza\")\n",
    "print()\n",
    "print(\"°°°°°°°°°°°°°°°°°°°°°°°°°°°°°°°°°\")\n",
    "\n",
    "numero_secreto=random.randrange(1,101)\n",
    "\n",
    "print(\"Seleccione el nivel de dificultad\")\n",
    "print(\"(1) Fácil (2) Medio (3) Dificil\")\n",
    "\n",
    "nivel = int(input(\"Ingrese nivel de dificultad: \"))\n",
    "if(nivel==1):\n",
    "  total_intentos = 20\n",
    "elif(nivel==2):\n",
    "  total_intentos = 10\n",
    "else:\n",
    "  total_intentos = 5\n",
    "\n",
    "for iteracion in range (1, total_intentos +1):\n",
    "  print(\"Intento: {} de {}\".format(iteracion,total_intentos))\n",
    "  entrada=input(\"Digite un número entre 1 y 100\")\n",
    "  entrada=int(entrada)\n",
    "  print(\"Digitaste...\",entrada)\n",
    "  if(entrada<1 or entrada>100):\n",
    "    print(\"Ingresar un número entre 1 y 100: \")\n",
    "    continue\n",
    "\n",
    "  acertaste=entrada==numero_secreto #Iguales\n",
    "  mayor=entrada>numero_secreto #Entrada es mayor\n",
    "  menor=entrada<numero_secreto #Entrada es menor\n",
    "\n",
    "  if(acertaste):\n",
    "    print(\"Felicitaciones, adivinaste el número\")\n",
    "    break\n",
    "  elif(mayor):\n",
    "    print(\"Lo siento, el número que ingresaste es mayor al secreto\")\n",
    "  else:\n",
    "    print(\"Lo siento, el número que ingresaste es menor al secreto\")\n",
    "\n",
    "\n",
    "\n",
    "print(\"Fin del juego\")\n"
   ]
  },
  {
   "cell_type": "markdown",
   "metadata": {
    "id": "XwSe2xesO96K"
   },
   "source": [
    "####Puntos para el juego"
   ]
  },
  {
   "cell_type": "code",
   "execution_count": null,
   "metadata": {
    "colab": {
     "base_uri": "https://localhost:8080/"
    },
    "id": "cANSkwidPAvK",
    "outputId": "d7d5e760-c9a8-40cf-fa6b-28613e9edd63"
   },
   "outputs": [
    {
     "data": {
      "text/plain": [
       "20"
      ]
     },
     "execution_count": 56,
     "metadata": {},
     "output_type": "execute_result"
    }
   ],
   "source": [
    "puntos_perdidos=abs(50-70)\n",
    "puntos_perdidos"
   ]
  },
  {
   "cell_type": "code",
   "execution_count": null,
   "metadata": {
    "colab": {
     "base_uri": "https://localhost:8080/"
    },
    "id": "In7XsBBWP-YZ",
    "outputId": "50bab1d5-7001-4944-c96a-44b9efe94a93"
   },
   "outputs": [
    {
     "name": "stdout",
     "output_type": "stream",
     "text": [
      "°°°°°°°°°°°°°°°°°°°°°°°°°°°°°°°°°\n",
      "Bienvenido al juego de adivinanza\n",
      "\n",
      "°°°°°°°°°°°°°°°°°°°°°°°°°°°°°°°°°\n",
      "Seleccione el nivel de dificultad\n",
      "(1) Fácil (2) Medio (3) Dificil\n",
      "Ingrese nivel de dificultad: 3\n",
      "Intento: 1 de 5\n",
      "Digite un número entre 1 y 10050\n",
      "Digitaste... 50\n",
      "Lo siento, el número que ingresaste es mayor al secreto\n",
      "Intento: 2 de 5\n",
      "Digite un número entre 1 y 10020\n",
      "Digitaste... 20\n",
      "Lo siento, el número que ingresaste es menor al secreto\n",
      "Intento: 3 de 5\n",
      "Digite un número entre 1 y 10030\n",
      "Digitaste... 30\n",
      "Lo siento, el número que ingresaste es menor al secreto\n",
      "Intento: 4 de 5\n",
      "Digite un número entre 1 y 10032\n",
      "Digitaste... 32\n",
      "Lo siento, el número que ingresaste es menor al secreto\n",
      "Intento: 5 de 5\n",
      "Digite un número entre 1 y 10045\n",
      "Digitaste... 45\n",
      "Lo siento, el número que ingresaste es mayor al secreto\n",
      "Fin del juego\n"
     ]
    }
   ],
   "source": [
    "import random\n",
    "print(\"°°°°°°°°°°°°°°°°°°°°°°°°°°°°°°°°°\")\n",
    "print(\"Bienvenido al juego de adivinanza\")\n",
    "print()\n",
    "print(\"°°°°°°°°°°°°°°°°°°°°°°°°°°°°°°°°°\")\n",
    "\n",
    "numero_secreto=random.randrange(1,101)\n",
    "puntaje=1000\n",
    "\n",
    "print(\"Seleccione el nivel de dificultad\")\n",
    "print(\"(1) Fácil (2) Medio (3) Dificil\")\n",
    "\n",
    "nivel = int(input(\"Ingrese nivel de dificultad: \"))\n",
    "if(nivel==1):\n",
    "  total_intentos = 20\n",
    "elif(nivel==2):\n",
    "  total_intentos = 10\n",
    "else:\n",
    "  total_intentos = 5\n",
    "\n",
    "for iteracion in range (1, total_intentos +1):\n",
    "  print(\"Intento: {} de {}\".format(iteracion,total_intentos))\n",
    "  entrada=input(\"Digite un número entre 1 y 100\")\n",
    "  entrada=int(entrada)\n",
    "  print(\"Digitaste...\",entrada)\n",
    "  if(entrada<1 or entrada>100):\n",
    "    print(\"Ingresar un número entre 1 y 100: \")\n",
    "    continue\n",
    "\n",
    "  acertaste=entrada==numero_secreto #Iguales\n",
    "  mayor=entrada>numero_secreto #Entrada es mayor\n",
    "  menor=entrada<numero_secreto #Entrada es menor\n",
    "\n",
    "  if(acertaste):\n",
    "    print(\"Felicitaciones, adivinaste el número y ganaste {} puntos\".format(puntaje))\n",
    "    break\n",
    "  elif(mayor):\n",
    "    print(\"Lo siento, el número que ingresaste es mayor al secreto\")\n",
    "  else:\n",
    "    print(\"Lo siento, el número que ingresaste es menor al secreto\")\n",
    "\n",
    "  puntos_perdidos=abs(numero_secreto-entrada)\n",
    "  puntaje=puntaje-puntos_perdidos\n",
    "\n",
    "print(\"Fin del juego\")\n"
   ]
  },
  {
   "cell_type": "markdown",
   "metadata": {},
   "source": [
    "# Juego del ahorcado clase 15/08/23"
   ]
  },
  {
   "cell_type": "code",
   "execution_count": 1,
   "metadata": {},
   "outputs": [
    {
     "name": "stdout",
     "output_type": "stream",
     "text": [
      "°°°°°°°°°°°°°°°°°°°°°°°°°°°°°°°°°°\n",
      "Bienvenido al juego del ahorcado\n",
      "°°°°°°°°°°°°°°°°°°°°°°°°°°°°°°°°°°\n",
      "Fin del juego\n"
     ]
    }
   ],
   "source": [
    "print(\"°°°°°°°°°°°°°°°°°°°°°°°°°°°°°°°°°°\")\n",
    "print(\"Bienvenido al juego del ahorcado\")\n",
    "print(\"°°°°°°°°°°°°°°°°°°°°°°°°°°°°°°°°°°\")\n",
    "\n",
    "print(\"Fin del juego\")"
   ]
  },
  {
   "cell_type": "markdown",
   "metadata": {},
   "source": [
    "# Crear set de juegos"
   ]
  },
  {
   "cell_type": "code",
   "execution_count": null,
   "metadata": {},
   "outputs": [],
   "source": [
    "import ahorcado\n",
    "import adivinanza\n",
    "\n",
    "print(\"°°°°°°°°°°°°°°°°°°°°°°°°°\")\n",
    "print(\"Elija su juego\")\n",
    "print(\"°°°°°°°°°°°°°°°°°°°°°°°°°\")\n",
    "\n",
    "print(\"(1) Ahorcado (2) Adivinanza\")\n",
    "\n",
    "juego = int(input(\"Seleccione el juego:  \"))\n",
    "\n",
    "if(juego==1):\n",
    "    print(\"Ahorcado\")\n",
    "elif(juego==2):\n",
    "    print(\"Jugando adivinanza\")"
   ]
  }
 ],
 "metadata": {
  "colab": {
   "provenance": []
  },
  "kernelspec": {
   "display_name": "Python 3 (ipykernel)",
   "language": "python",
   "name": "python3"
  },
  "language_info": {
   "codemirror_mode": {
    "name": "ipython",
    "version": 3
   },
   "file_extension": ".py",
   "mimetype": "text/x-python",
   "name": "python",
   "nbconvert_exporter": "python",
   "pygments_lexer": "ipython3",
   "version": "3.11.4"
  }
 },
 "nbformat": 4,
 "nbformat_minor": 1
}
