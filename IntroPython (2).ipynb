{
 "cells": [
  {
   "cell_type": "markdown",
   "metadata": {
    "id": "nDFR1EyKz6V9"
   },
   "source": [
    "## Primera clase de Pyton"
   ]
  },
  {
   "cell_type": "code",
   "execution_count": null,
   "metadata": {},
   "outputs": [],
   "source": []
  },
  {
   "cell_type": "code",
   "execution_count": 1,
   "metadata": {
    "colab": {
     "base_uri": "https://localhost:8080/"
    },
    "id": "bxdahWoVyjQn",
    "outputId": "9216e1fd-33e5-46e1-b54e-d117d0d73bf8"
   },
   "outputs": [
    {
     "data": {
      "text/plain": [
       "91"
      ]
     },
     "execution_count": 1,
     "metadata": {},
     "output_type": "execute_result"
    }
   ],
   "source": [
    "1+90"
   ]
  },
  {
   "cell_type": "code",
   "execution_count": 2,
   "metadata": {
    "colab": {
     "base_uri": "https://localhost:8080/"
    },
    "id": "8PuaGCPG1VPd",
    "outputId": "d2289c7d-4a05-4698-af1a-448f61e2629a"
   },
   "outputs": [
    {
     "data": {
      "text/plain": [
       "99"
      ]
     },
     "execution_count": 2,
     "metadata": {},
     "output_type": "execute_result"
    }
   ],
   "source": [
    "1+98"
   ]
  },
  {
   "cell_type": "markdown",
   "metadata": {
    "id": "Y7fnmwb_1dvK"
   },
   "source": [
    "#Lógica de programación con Python"
   ]
  },
  {
   "cell_type": "code",
   "execution_count": 3,
   "metadata": {
    "colab": {
     "base_uri": "https://localhost:8080/",
     "height": 36
    },
    "id": "_t_Kj9dy1vA5",
    "outputId": "89972013-ed01-4ebf-a110-4d288c77905b"
   },
   "outputs": [
    {
     "data": {
      "text/plain": [
       "'Rolando'"
      ]
     },
     "execution_count": 3,
     "metadata": {},
     "output_type": "execute_result"
    }
   ],
   "source": [
    "\"Rolando\""
   ]
  },
  {
   "cell_type": "code",
   "execution_count": 4,
   "metadata": {
    "id": "EXD1p_Bp2R4d"
   },
   "outputs": [],
   "source": [
    "nombre = \"Rolando\""
   ]
  },
  {
   "cell_type": "code",
   "execution_count": 5,
   "metadata": {
    "colab": {
     "base_uri": "https://localhost:8080/",
     "height": 36
    },
    "id": "ECHPXj8B2aDW",
    "outputId": "ad6b2828-253b-4512-df19-06c7d5fb628c"
   },
   "outputs": [
    {
     "data": {
      "text/plain": [
       "'Rolando'"
      ]
     },
     "execution_count": 5,
     "metadata": {},
     "output_type": "execute_result"
    }
   ],
   "source": [
    "nombre"
   ]
  },
  {
   "cell_type": "code",
   "execution_count": 6,
   "metadata": {
    "id": "ijzZU6Rl2p10"
   },
   "outputs": [],
   "source": [
    "Edad = 19"
   ]
  },
  {
   "cell_type": "code",
   "execution_count": 7,
   "metadata": {
    "colab": {
     "base_uri": "https://localhost:8080/"
    },
    "id": "n2SIt51V2wnh",
    "outputId": "b9573a7b-2720-47fc-eb2e-6e136a95092d"
   },
   "outputs": [
    {
     "data": {
      "text/plain": [
       "19"
      ]
     },
     "execution_count": 7,
     "metadata": {},
     "output_type": "execute_result"
    }
   ],
   "source": [
    "Edad"
   ]
  },
  {
   "cell_type": "code",
   "execution_count": 8,
   "metadata": {
    "colab": {
     "base_uri": "https://localhost:8080/"
    },
    "id": "dVAKx5IW2-Tm",
    "outputId": "06b1f124-3503-4b10-e279-0992fb799068"
   },
   "outputs": [
    {
     "name": "stdout",
     "output_type": "stream",
     "text": [
      "El nombre es Rolando y su edad es 19 años\n"
     ]
    }
   ],
   "source": [
    "print (f'El nombre es {nombre} y su edad es {Edad} años')"
   ]
  },
  {
   "cell_type": "code",
   "execution_count": 9,
   "metadata": {
    "id": "X_5BS8Pv4FPb"
   },
   "outputs": [],
   "source": [
    "Edad = 20"
   ]
  },
  {
   "cell_type": "code",
   "execution_count": 10,
   "metadata": {
    "colab": {
     "base_uri": "https://localhost:8080/"
    },
    "id": "PmK8XanM30N3",
    "outputId": "60cc3d63-1db1-462e-a31f-6504d2eb667d"
   },
   "outputs": [
    {
     "name": "stdout",
     "output_type": "stream",
     "text": [
      "El nombres esRolando y su edad es 20 años\n"
     ]
    }
   ],
   "source": [
    "print (f'El nombres es{nombre} y su edad es {Edad} años')"
   ]
  },
  {
   "cell_type": "code",
   "execution_count": 11,
   "metadata": {
    "colab": {
     "base_uri": "https://localhost:8080/"
    },
    "id": "ZRivu-Va1EQS",
    "outputId": "ab8e6b34-bc1a-4403-9835-d33fe230a5ba"
   },
   "outputs": [
    {
     "name": "stdout",
     "output_type": "stream",
     "text": [
      "Brasil-ganó-5-titulos mundiales-de fútbol\n",
      "Brasil ganó 5 titulos mundiales de fútbol-"
     ]
    }
   ],
   "source": [
    "print (\"Brasil\", \"ganó\", 5, \"titulos mundiales\", \"de fútbol\", sep=\"-\")\n",
    "print (\"Brasil\", \"ganó\", 5, \"titulos mundiales\", \"de fútbol\", end=\"-\")"
   ]
  },
  {
   "cell_type": "code",
   "execution_count": 12,
   "metadata": {
    "id": "fraltSqg3kKn"
   },
   "outputs": [],
   "source": [
    "#pais=\"Argentina\"\n",
    "#titulo=3\n",
    "pais=\"Italia\"\n",
    "titulo=4"
   ]
  },
  {
   "cell_type": "code",
   "execution_count": 13,
   "metadata": {
    "colab": {
     "base_uri": "https://localhost:8080/"
    },
    "id": "rI1s6cZj3tSe",
    "outputId": "52ec04c2-f104-48e3-8d9e-69daeff407e8"
   },
   "outputs": [
    {
     "name": "stdout",
     "output_type": "stream",
     "text": [
      "Italia ganó 4 titulos mundiales de fútbol\n"
     ]
    }
   ],
   "source": [
    "print (pais, \"ganó\", titulo, \"titulos mundiales\", \"de fútbol\", sep=\" \")"
   ]
  },
  {
   "cell_type": "markdown",
   "metadata": {
    "id": "AUHIqaNL4AZ6"
   },
   "source": [
    "##Creando mi primera función"
   ]
  },
  {
   "cell_type": "code",
   "execution_count": 14,
   "metadata": {
    "id": "xCRGge_E4KZc"
   },
   "outputs": [],
   "source": [
    "def saludos():\n",
    "  nombre = input(\"¿Cual es su nombre?\")\n",
    "  print(f'Hola {nombre}')"
   ]
  },
  {
   "cell_type": "code",
   "execution_count": 15,
   "metadata": {
    "colab": {
     "base_uri": "https://localhost:8080/"
    },
    "id": "I0Yu43xY5dA_",
    "outputId": "512cc853-5f88-42e9-e37d-83d992375d64"
   },
   "outputs": [
    {
     "name": "stderr",
     "output_type": "stream",
     "text": [
      "\n",
      "KeyboardInterrupt\n",
      "\n"
     ]
    }
   ],
   "source": [
    "saludos()"
   ]
  },
  {
   "cell_type": "markdown",
   "metadata": {
    "id": "uui0iQjf5xaU"
   },
   "source": [
    "##Parametros"
   ]
  },
  {
   "cell_type": "code",
   "execution_count": null,
   "metadata": {
    "id": "8UaOgkky50kP"
   },
   "outputs": [],
   "source": [
    "nombre = 'Karla'"
   ]
  },
  {
   "cell_type": "code",
   "execution_count": null,
   "metadata": {
    "id": "k-x2mICR6E7P"
   },
   "outputs": [],
   "source": [
    "def saludos_con_parametros (nombre_de_la_persona):\n",
    "  print(f'Hola {nombre_de_la_persona}')"
   ]
  },
  {
   "cell_type": "code",
   "execution_count": null,
   "metadata": {
    "colab": {
     "base_uri": "https://localhost:8080/"
    },
    "id": "aOioN5lt6VlB",
    "outputId": "7e36644b-3f98-404b-ccb8-394fd7d1775e"
   },
   "outputs": [],
   "source": [
    "saludos_con_parametros(nombre)"
   ]
  },
  {
   "cell_type": "markdown",
   "metadata": {
    "id": "5HnL5DCn6pDH"
   },
   "source": [
    "##Condicional"
   ]
  },
  {
   "cell_type": "code",
   "execution_count": null,
   "metadata": {
    "colab": {
     "base_uri": "https://localhost:8080/"
    },
    "id": "Wl6VQD9I6rRO",
    "outputId": "6551cc61-d07a-4908-ff1c-9929542281ad"
   },
   "outputs": [],
   "source": [
    "Edad = 18\n",
    "def verifica_si_puede_conducir(Edad):\n",
    "  if Edad >=18:\n",
    "    print('Tiene autorizacion para conducir')\n",
    "  else:\n",
    "      print('No tiene autorizacion para conducir')\n",
    "\n",
    "verifica_si_puede_conducir(Edad)"
   ]
  },
  {
   "cell_type": "markdown",
   "metadata": {
    "id": "8rjHGT488lwT"
   },
   "source": [
    "##Convirtiendo tipo entero"
   ]
  },
  {
   "cell_type": "code",
   "execution_count": null,
   "metadata": {
    "colab": {
     "base_uri": "https://localhost:8080/"
    },
    "id": "FBXijNUt8pIm",
    "outputId": "6c2d4e81-8f58-4464-9bcb-a56f4911da0f"
   },
   "outputs": [],
   "source": [
    "def verifica_si_puede_conducir_sin_parametros():\n",
    "  edad = input ('¿Cual es su edad?')\n",
    "  edad = int(edad)\n",
    "  if edad >= 18:\n",
    "    print('Tiene autorizacion para conducir')\n",
    "  else:\n",
    "      print('No tiene autorizacion para conducir')\n",
    "\n",
    "verifica_si_puede_conducir_sin_parametros()"
   ]
  },
  {
   "cell_type": "markdown",
   "metadata": {
    "id": "BGy-UZt6_AOB"
   },
   "source": [
    "#Lista"
   ]
  },
  {
   "cell_type": "code",
   "execution_count": null,
   "metadata": {
    "colab": {
     "base_uri": "https://localhost:8080/"
    },
    "id": "Riax0chP_CNO",
    "outputId": "31a34049-48b2-485a-a17d-54b9f0d001e5"
   },
   "outputs": [],
   "source": [
    "edad = 22\n",
    "edad"
   ]
  },
  {
   "cell_type": "code",
   "execution_count": null,
   "metadata": {
    "colab": {
     "base_uri": "https://localhost:8080/"
    },
    "id": "u6yEjL9d_Zfv",
    "outputId": "3a8fc869-aac4-4222-86d0-72fdcc59390a"
   },
   "outputs": [],
   "source": [
    "type(edad)"
   ]
  },
  {
   "cell_type": "code",
   "execution_count": null,
   "metadata": {
    "colab": {
     "base_uri": "https://localhost:8080/"
    },
    "id": "dmwSmawS_uJc",
    "outputId": "5054e659-63a4-4b55-b773-a7181884808c"
   },
   "outputs": [],
   "source": [
    "nombre = 'Gabito'\n",
    "type(nombre)"
   ]
  },
  {
   "cell_type": "code",
   "execution_count": null,
   "metadata": {
    "colab": {
     "base_uri": "https://localhost:8080/"
    },
    "id": "fjriiYFP_9dH",
    "outputId": "771eccd7-c34e-4bf2-e8b0-8ebac23c6450"
   },
   "outputs": [],
   "source": [
    "edades = [18, 22, 15, 50]\n",
    "type(edades)"
   ]
  },
  {
   "cell_type": "code",
   "execution_count": null,
   "metadata": {
    "colab": {
     "base_uri": "https://localhost:8080/"
    },
    "id": "odDO_1RVAUOP",
    "outputId": "327bfe93-c70a-48ce-d769-687497343e5f"
   },
   "outputs": [],
   "source": [
    "edades[2]"
   ]
  },
  {
   "cell_type": "code",
   "execution_count": null,
   "metadata": {
    "id": "m6zVZOb-Az9Y"
   },
   "outputs": [],
   "source": [
    "edades = [18, 22, 15, 50]\n",
    "#         0   1   2   3\n",
    "#         0  -3  -2  -1"
   ]
  },
  {
   "cell_type": "code",
   "execution_count": null,
   "metadata": {
    "colab": {
     "base_uri": "https://localhost:8080/"
    },
    "id": "1U9r2Zy6BWAf",
    "outputId": "1ecd74f2-5ca9-482a-ec16-3735f9a19248"
   },
   "outputs": [],
   "source": [
    "edades[-3]"
   ]
  },
  {
   "cell_type": "code",
   "execution_count": null,
   "metadata": {
    "colab": {
     "base_uri": "https://localhost:8080/"
    },
    "id": "qnWNxDX-Boem",
    "outputId": "4e07ccee-ee0a-4b15-8ac8-4eed806cf429"
   },
   "outputs": [],
   "source": [
    "edades[0:3]"
   ]
  },
  {
   "cell_type": "code",
   "execution_count": null,
   "metadata": {
    "colab": {
     "base_uri": "https://localhost:8080/"
    },
    "id": "ZRpLJkdMB-7j",
    "outputId": "0b0a17fa-1b84-48ed-86b5-9d4bd23c5a2a"
   },
   "outputs": [],
   "source": [
    "edades[1:]"
   ]
  },
  {
   "cell_type": "markdown",
   "metadata": {
    "id": "Uj_iJo9JCbYj"
   },
   "source": [
    "##Lazos y loops"
   ]
  },
  {
   "cell_type": "code",
   "execution_count": null,
   "metadata": {
    "colab": {
     "base_uri": "https://localhost:8080/"
    },
    "id": "k1c3zBeKCa1B",
    "outputId": "6ee8374d-5ca1-4e10-bddd-3f3bd9da610d"
   },
   "outputs": [],
   "source": [
    "edades"
   ]
  },
  {
   "cell_type": "code",
   "execution_count": null,
   "metadata": {
    "colab": {
     "base_uri": "https://localhost:8080/"
    },
    "id": "eN9VwCcIDc0K",
    "outputId": "ec55113a-ba16-4ef9-9dfe-19f89c26df8c"
   },
   "outputs": [],
   "source": [
    "#for fuera de la funcion\n",
    "\n",
    "def verifica_si_puede_conducir(edad):\n",
    "  if edad >= 18:\n",
    "    print(f\"{edad} años de edad, Tiene autorizacion para conducir\")\n",
    "  else:\n",
    "    print(f\"{edad} años de edad, No tiene autorizacion para conducir\")\n",
    "\n",
    "for edad in edades:\n",
    "  verifica_si_puede_conducir(edad)"
   ]
  },
  {
   "cell_type": "code",
   "execution_count": null,
   "metadata": {
    "colab": {
     "base_uri": "https://localhost:8080/"
    },
    "id": "iX3bLXuSExE2",
    "outputId": "c1823e77-619e-42c9-ced7-c466f73b7310"
   },
   "outputs": [],
   "source": [
    "def verifica_si_puede_conducir(edad):\n",
    "  for edad in edades:\n",
    "    if edad >= 18:\n",
    "      print(f\"{edad} años de edad, Tiene autorizacion para conducir\")\n",
    "    else:\n",
    "      print(f\"{edad} años de edad, No tiene autorizacion para conducir\")\n",
    "\n",
    "verifica_si_puede_conducir(edades)"
   ]
  },
  {
   "cell_type": "markdown",
   "metadata": {
    "id": "lyMaelQCFg39"
   },
   "source": [
    "##Booleano"
   ]
  },
  {
   "cell_type": "code",
   "execution_count": null,
   "metadata": {
    "colab": {
     "base_uri": "https://localhost:8080/"
    },
    "id": "l-93nU35FqpC",
    "outputId": "9772bbc8-f80c-4d85-da6f-fa18c256f3dd"
   },
   "outputs": [],
   "source": [
    "edad = 18\n",
    "edad >= 18"
   ]
  },
  {
   "cell_type": "code",
   "execution_count": null,
   "metadata": {
    "colab": {
     "base_uri": "https://localhost:8080/"
    },
    "id": "CtwYofLaF-B-",
    "outputId": "5d169dbc-4ee5-4f48-d431-c65dacec8d01"
   },
   "outputs": [],
   "source": [
    "edad = 12\n",
    "edad >= 18"
   ]
  },
  {
   "cell_type": "code",
   "execution_count": null,
   "metadata": {
    "id": "qw-PHDbwGAU-"
   },
   "outputs": [],
   "source": [
    "autorizaciones = []\n",
    "edades = [20, 14, 40]\n",
    "\n",
    "def verifica_si_puede_conducir(edades, autorizaciones):\n",
    "  for edad in edades:\n",
    "    if edad >=18:\n",
    "      autorizaciones.append(True)\n",
    "#append es agregar el valor\n",
    "    else:\n",
    "      autorizaciones.append(False)\n",
    "\n",
    "verifica_si_puede_conducir(edades, autorizaciones)"
   ]
  },
  {
   "cell_type": "code",
   "execution_count": null,
   "metadata": {
    "colab": {
     "base_uri": "https://localhost:8080/"
    },
    "id": "LpZ2ukPrHKUO",
    "outputId": "5d523a3e-0c0a-4372-9e59-1289b2079725"
   },
   "outputs": [],
   "source": [
    "autorizaciones"
   ]
  },
  {
   "cell_type": "code",
   "execution_count": null,
   "metadata": {
    "colab": {
     "base_uri": "https://localhost:8080/"
    },
    "id": "ZdEXXwC3HYQf",
    "outputId": "51e8f6f3-f4ca-4fa0-a0c6-60ec75f3bc6e"
   },
   "outputs": [],
   "source": [
    "for autorizacion in autorizaciones:\n",
    "  if autorizacion == True:\n",
    "    print(\"Tiene autorizacion para conducir\")\n",
    "  else:\n",
    "    print(\"No tiene autorizacion para conducir\")"
   ]
  },
  {
   "cell_type": "markdown",
   "metadata": {
    "id": "4H9bYUB5H7aA"
   },
   "source": [
    "##Tipos en una lista"
   ]
  },
  {
   "cell_type": "code",
   "execution_count": null,
   "metadata": {
    "colab": {
     "base_uri": "https://localhost:8080/"
    },
    "id": "O1FgUY3kH9GL",
    "outputId": "2b079aba-c37f-4565-fe61-1ba25d541011"
   },
   "outputs": [],
   "source": [
    "lista = [\"Mauricio\", 28, True, \"18\"]\n",
    "\n",
    "for elemento in lista:\n",
    "  print(f\"El elemento {elemento} es del tipo: \", type(elemento))\n",
    "\n"
   ]
  },
  {
   "cell_type": "markdown",
   "metadata": {
    "id": "OlDE1iK6Iu4W"
   },
   "source": [
    "##Import"
   ]
  },
  {
   "cell_type": "code",
   "execution_count": null,
   "metadata": {
    "id": "z6qkPnHaIwa0"
   },
   "outputs": [],
   "source": [
    "from random import randrange, seed"
   ]
  },
  {
   "cell_type": "code",
   "execution_count": null,
   "metadata": {
    "id": "GlK-qgYXI88L"
   },
   "outputs": [],
   "source": [
    "seed(11)"
   ]
  },
  {
   "cell_type": "code",
   "execution_count": null,
   "metadata": {
    "colab": {
     "base_uri": "https://localhost:8080/"
    },
    "id": "pQ1d1QHwJCCp",
    "outputId": "581018d5-f0c0-4b25-947b-917b79ca301e"
   },
   "outputs": [],
   "source": [
    "randrange(0,11)"
   ]
  },
  {
   "cell_type": "code",
   "execution_count": null,
   "metadata": {
    "colab": {
     "base_uri": "https://localhost:8080/"
    },
    "id": "QfJSPYn_J0M2",
    "outputId": "3252eb17-56fa-44d6-ce8c-a20d4823374b"
   },
   "outputs": [],
   "source": [
    "notas_matematica = []\n",
    "\n",
    "for notas in range (8):\n",
    "  notas_matematica.append(randrange(0,11))\n",
    "\n",
    "notas_matematica"
   ]
  },
  {
   "cell_type": "code",
   "execution_count": null,
   "metadata": {
    "colab": {
     "base_uri": "https://localhost:8080/"
    },
    "id": "sQa_gT_7Kkwo",
    "outputId": "4b47e5f5-864f-47c7-b588-e5a33ddcc2d2"
   },
   "outputs": [],
   "source": [
    "len(notas_matematica)"
   ]
  },
  {
   "cell_type": "markdown",
   "metadata": {
    "id": "xVlAKYjuKfCG"
   },
   "source": [
    "##Matplotlib"
   ]
  },
  {
   "cell_type": "code",
   "execution_count": null,
   "metadata": {
    "id": "rBiTcRXdKqzt"
   },
   "outputs": [],
   "source": [
    "import matplotlib.pyplot as plt"
   ]
  },
  {
   "cell_type": "code",
   "execution_count": null,
   "metadata": {
    "colab": {
     "base_uri": "https://localhost:8080/",
     "height": 472
    },
    "id": "X68OY2VILHJC",
    "outputId": "b1913e54-5779-4670-c2d6-1140a3747912"
   },
   "outputs": [],
   "source": [
    "x = list(range(1,9))\n",
    "y = notas_matematica\n",
    "#plt.plot(x, y, marker=\"o\")\n",
    "plt.bar(x, y)\n",
    "plt.title(\"Notas de matematica\")\n",
    "plt.xlabel(\"Exámenes\")\n",
    "plt.ylabel(\"Notas\")\n",
    "plt.show()"
   ]
  },
  {
   "cell_type": "markdown",
   "metadata": {
    "id": "7CtzVqIo4nAc"
   },
   "source": [
    "##Práctica de juego dinamico 08 08 2023"
   ]
  },
  {
   "cell_type": "code",
   "execution_count": null,
   "metadata": {
    "colab": {
     "base_uri": "https://localhost:8080/"
    },
    "id": "tQ2CHFWQ4mrN",
    "outputId": "27ade583-b1fb-43bb-f517-9c9ebc474b7a"
   },
   "outputs": [],
   "source": [
    "print(\"°°°°°°°°°°°°°°°°°°°°°°°°°°°°°°°°°\")\n",
    "print(\"Bienvenido al juego de adivinanza\")\n",
    "print(\"°°°°°°°°°°°°°°°°°°°°°°°°°°°°°°°°°\")\n",
    "\n",
    "numero_secreto=42\n",
    "\n",
    "entrada= int(input(\"Digite un número \"))\n",
    "\n",
    "print(\"Digitaste...\", entrada)\n",
    "\n",
    "if(entrada==numero_secreto):\n",
    "  print(\"Felicitaciones !!! ... adivinaste el número\")\n",
    "else:\n",
    "  print(\"Lo siento ... no lograste adivinar el número\")\n",
    "\n",
    "print(\"Fin del juego\")\n"
   ]
  },
  {
   "cell_type": "markdown",
   "metadata": {
    "id": "MKHHNzId7KIu"
   },
   "source": [
    "##Comparación si las variables son del mismo tipo"
   ]
  },
  {
   "cell_type": "code",
   "execution_count": null,
   "metadata": {
    "colab": {
     "base_uri": "https://localhost:8080/"
    },
    "id": "ehyav8Pj7N7h",
    "outputId": "b514173d-a789-416c-cbad-40ef6122717f"
   },
   "outputs": [],
   "source": [
    "type(numero_secreto)"
   ]
  },
  {
   "cell_type": "markdown",
   "metadata": {
    "id": "2mhNAr8V7rqm"
   },
   "source": [
    "##Guiar al usuario si el número ingresado fue mayor o menor al número que se tiene que adivinar"
   ]
  },
  {
   "cell_type": "code",
   "execution_count": null,
   "metadata": {
    "colab": {
     "base_uri": "https://localhost:8080/"
    },
    "id": "3d2E4Pp_7zCi",
    "outputId": "f72b5e22-ce77-4a6b-8975-14a9c343056d"
   },
   "outputs": [],
   "source": [
    "print(\"°°°°°°°°°°°°°°°°°°°°°°°°°°°°°°°°°\")\n",
    "print(\"Bienvenido al juego de adivinanza\")\n",
    "print(\"°°°°°°°°°°°°°°°°°°°°°°°°°°°°°°°°°\")\n",
    "\n",
    "numero_secreto=42\n",
    "\n",
    "entrada= int(input(\"Digite un número \"))\n",
    "\n",
    "print(\"Digitaste...\", entrada)\n",
    "\n",
    "acertaste=entrada==numero_secreto #Iguales\n",
    "mayor=entrada>numero_secreto #Entrada es mayor\n",
    "menor=entrada<numero_secreto #Entrada es menor\n",
    "\n",
    "if(acertaste):\n",
    "  print(\"Felicitaciones !!! ... adivinaste el número\")\n",
    "elif(mayor):\n",
    "  print(\"Lo siento ... el número que ingresaste es mayor que el secreto\")\n",
    "else:\n",
    "  print(\"Lo siento ... el número que ingresaste es menor que el secreto\")\n",
    "\n",
    "print(\"Fin del juego\")"
   ]
  },
  {
   "cell_type": "code",
   "execution_count": null,
   "metadata": {
    "colab": {
     "base_uri": "https://localhost:8080/"
    },
    "id": "ZolJ1jr2-b2m",
    "outputId": "52584128-7f63-4cd2-81ba-0236f44a7485"
   },
   "outputs": [],
   "source": [
    "##Ahora con while\n",
    "numero_secreto=42\n",
    "total_intentos=6\n",
    "iteracion=1\n",
    "\n",
    "while(iteracion<=total_intentos):\n",
    "  print(\"Intento: \",iteracion,\" de\",total_intentos)\n",
    "  entrada=input(\"Digite un número \")\n",
    "  entrada=int(entrada)\n",
    "  print(\"Digitaste ... \", entrada)\n",
    "\n",
    "  acertaste=entrada==numero_secreto #Iguales\n",
    "  mayor=entrada>numero_secreto #Entrada es mayor\n",
    "  menor=entrada<numero_secreto #Entrada es menor\n",
    "\n",
    "  if(acertaste):\n",
    "    print(\"Felicitaciones, adivinaste el número\")\n",
    "    print()\n",
    "    break\n",
    "  elif(mayor):\n",
    "    print(\"Lo siento, el número que ingresaste es mayor al secreto\")\n",
    "    print()\n",
    "  else:\n",
    "    print(\"Lo siento, el número que ingresaste es menor al secreto\")\n",
    "    print()\n",
    "\n",
    "  iteracion = iteracion + 1\n",
    "print(\"Fin del juego\")\n"
   ]
  },
  {
   "cell_type": "markdown",
   "metadata": {
    "id": "FvfVvKSyCPi2"
   },
   "source": [
    "##Mejorando aún el código.....formateando los strings"
   ]
  },
  {
   "cell_type": "code",
   "execution_count": null,
   "metadata": {
    "id": "p_cyZj0eCT5v"
   },
   "outputs": [],
   "source": [
    "print(\"°°°°°°°°°°°°°°°°°°°°°°°°°°°°°°°°°\")\n",
    "print(\"Bienvenido al juego de adivinanza\")\n",
    "print(\"°°°°°°°°°°°°°°°°°°°°°°°°°°°°°°°°°\")\n",
    "numero_secreto=42\n",
    "total_intentos=6\n",
    "iteracion=1\n",
    "\n",
    "while(iteracion<=total_intentos):\n",
    "  print(\"Intento: {} de {}\".format(iteracion,total_intentos))\n",
    "  entrada=input(\"Digite un número \")\n",
    "  entrada=int(entrada)\n",
    "  print(\"Digitaste ... \", entrada)\n",
    "\n",
    "  acertaste=entrada==numero_secreto #Iguales\n",
    "  mayor=entrada>numero_secreto #Entrada es mayor\n",
    "  menor=entrada<numero_secreto #Entrada es menor\n",
    "\n",
    "  if(acertaste):\n",
    "    print(\"Felicitaciones, adivinaste el número\")\n",
    "    print()\n",
    "    break\n",
    "  elif(mayor):\n",
    "    print(\"Lo siento, el número que ingresaste es mayor al secreto\")\n",
    "    print()\n",
    "  else:\n",
    "    print(\"Lo siento, el número que ingresaste es menor al secreto\")\n",
    "    print()\n",
    "\n",
    "  iteracion = iteracion + 1\n",
    "print(\"Fin del juego\")\n"
   ]
  },
  {
   "cell_type": "markdown",
   "metadata": {
    "id": "Qd-3DWQEDi2l"
   },
   "source": [
    "###Utilizando otra sentencia para LOOPS    for i range(n1, n2, n3) y controlar que el número ingresado sea positivo y si adivinó del total de intentos, para el juego"
   ]
  },
  {
   "cell_type": "code",
   "execution_count": null,
   "metadata": {
    "colab": {
     "base_uri": "https://localhost:8080/"
    },
    "id": "1SzGCHSJEyY5",
    "outputId": "70895779-ad0b-44ef-ab86-fbf61eac0b45"
   },
   "outputs": [],
   "source": [
    "for i in range(1, 10, 2):\n",
    "  print(i)"
   ]
  },
  {
   "cell_type": "code",
   "execution_count": null,
   "metadata": {
    "colab": {
     "base_uri": "https://localhost:8080/"
    },
    "id": "z--HubbOF8TC",
    "outputId": "b7f2abfc-b6ec-46ca-b275-36d01fb79fc3"
   },
   "outputs": [],
   "source": [
    "for i in range(20, 4, -2):\n",
    "  print(i)"
   ]
  },
  {
   "cell_type": "code",
   "execution_count": null,
   "metadata": {
    "colab": {
     "base_uri": "https://localhost:8080/"
    },
    "id": "yXbPGOEQD32O",
    "outputId": "10c5a269-2518-4634-d3bd-15a75c860db0"
   },
   "outputs": [],
   "source": [
    "print(\"°°°°°°°°°°°°°°°°°°°°°°°°°°°°°°°°°\")\n",
    "print(\"Bienvenido al juego de adivinanza\")\n",
    "print()\n",
    "print(\"°°°°°°°°°°°°°°°°°°°°°°°°°°°°°°°°°\")\n",
    "\n",
    "numero_secreto=77\n",
    "total_intentos=6\n",
    "iteracion=1\n",
    "\n",
    "for iteraccion in range (1, total_intentos +1):\n",
    "  print(\"Intento: {} de {} \" .format(iteraccion,total_intentos))\n",
    "  entrada=input(\"Digite un número \")\n",
    "  entrada=int ( entrada)\n",
    "  print(\"Digitaste ... \", entrada)\n",
    "  if(entrada < 1 or entrada > 100):\n",
    "    print('Ingrese un numero entre 1 y 100')\n",
    "    continue\n",
    "\n",
    "  acertaste=entrada==numero_secreto #Iguales\n",
    "  mayor=entrada>numero_secreto #Entrada es mayor\n",
    "  menor=entrada<numero_secreto #Entrada es menor\n",
    "\n",
    "  if(acertaste):\n",
    "    print(\"Felicitaciones, adivinaste el número\")\n",
    "    break\n",
    "  elif(mayor):\n",
    "    print(\"Lo siento, el número que ingresaste es mayor al secreto\")\n",
    "  else:\n",
    "    print(\"Lo siento, el número que ingresaste es menor al secreto\")\n",
    "\n",
    "  iteracion = iteracion + 1\n",
    "print(\"Fin del juego\")"
   ]
  },
  {
   "cell_type": "markdown",
   "metadata": {
    "id": "4TkOE-CDH_LO"
   },
   "source": [
    "##Generar un número aleatorio"
   ]
  },
  {
   "cell_type": "code",
   "execution_count": null,
   "metadata": {
    "colab": {
     "base_uri": "https://localhost:8080/"
    },
    "id": "dWcvyug0ICPI",
    "outputId": "e887fb2a-863a-4354-f5fc-1a838ee5ce89"
   },
   "outputs": [],
   "source": [
    "##Generar número random\n",
    "import random\n",
    "random.random()"
   ]
  },
  {
   "cell_type": "code",
   "execution_count": null,
   "metadata": {
    "colab": {
     "base_uri": "https://localhost:8080/"
    },
    "id": "CkAuzJgnI9_r",
    "outputId": "9ec01084-51c7-4000-adb2-3e009e23c516"
   },
   "outputs": [],
   "source": [
    "##Generar número random entre 0 y 100\n",
    "numero_random=random.random()*100\n",
    "numero_random"
   ]
  },
  {
   "cell_type": "code",
   "execution_count": null,
   "metadata": {
    "colab": {
     "base_uri": "https://localhost:8080/"
    },
    "id": "uJk4TA2dJKHl",
    "outputId": "e69edd4b-ebe8-43ff-a6fb-1b6f9e0678d8"
   },
   "outputs": [],
   "source": [
    "##Generar número random entre 0 y 100\n",
    "numero_random=round(random.random()*100)\n",
    "numero_random"
   ]
  },
  {
   "cell_type": "code",
   "execution_count": null,
   "metadata": {
    "colab": {
     "base_uri": "https://localhost:8080/"
    },
    "id": "SMG_jUJOJ2U3",
    "outputId": "16d8dad5-5ddb-4d76-edf7-08d187dd1e90"
   },
   "outputs": [],
   "source": [
    "##Rango en random\n",
    "numero_random=random.randrange(1,101)\n",
    "numero_random"
   ]
  },
  {
   "cell_type": "markdown",
   "metadata": {
    "id": "o7-x1ZLfKIgC"
   },
   "source": [
    "##Mejorando el código del juego, con número aleatorio"
   ]
  },
  {
   "cell_type": "code",
   "execution_count": null,
   "metadata": {
    "colab": {
     "base_uri": "https://localhost:8080/"
    },
    "id": "-V2JUlU1KHpl",
    "outputId": "68241635-ebf8-44c5-ff66-40e6f095d1f8"
   },
   "outputs": [],
   "source": [
    "import random\n",
    "print(\"°°°°°°°°°°°°°°°°°°°°°°°°°°°°°°°°°\")\n",
    "print(\"Bienvenido al juego de adivinanza\")\n",
    "print()\n",
    "print(\"°°°°°°°°°°°°°°°°°°°°°°°°°°°°°°°°°\")\n",
    "\n",
    "numero_secreto=random.randrange(1,101)\n",
    "total_intentos=15\n",
    "\n",
    "for iteracion in range (1, total_intentos +1):\n",
    "  print(\"Intento: {} de {}\".format(iteracion,total_intentos))\n",
    "  entrada=input(\"Digite un número entre 1 y 100\")\n",
    "  entrada=int(entrada)\n",
    "  print(\"Digitaste...\",entrada)\n",
    "  if(entrada<1 or entrada>100):\n",
    "    print(\"Ingresar un número entre 1 y 100\")\n",
    "    continue\n",
    "\n",
    "  acertaste=entrada==numero_secreto #Iguales\n",
    "  mayor=entrada>numero_secreto #Entrada es mayor\n",
    "  menor=entrada<numero_secreto #Entrada es menor\n",
    "\n",
    "  if(acertaste):\n",
    "    print(\"Felicitaciones, adivinaste el número\")\n",
    "    break\n",
    "  elif(mayor):\n",
    "    print(\"Lo siento, el número que ingresaste es mayor al secreto\")\n",
    "  else:\n",
    "    print(\"Lo siento, el número que ingresaste es menor al secreto\")\n",
    "\n",
    "\n",
    "print(\"Fin del juego\")"
   ]
  },
  {
   "cell_type": "markdown",
   "metadata": {
    "id": "NFpTKY7vMutF"
   },
   "source": [
    "##Definiendo la dificultad en el código"
   ]
  },
  {
   "cell_type": "code",
   "execution_count": null,
   "metadata": {
    "colab": {
     "base_uri": "https://localhost:8080/"
    },
    "id": "qA3vpR3pMzHA",
    "outputId": "73590f5e-23e5-47b4-f728-ab0309f3f715"
   },
   "outputs": [],
   "source": [
    "import random\n",
    "print(\"°°°°°°°°°°°°°°°°°°°°°°°°°°°°°°°°°\")\n",
    "print(\"Bienvenido al juego de adivinanza\")\n",
    "print()\n",
    "print(\"°°°°°°°°°°°°°°°°°°°°°°°°°°°°°°°°°\")\n",
    "\n",
    "numero_secreto=random.randrange(1,101)\n",
    "\n",
    "print(\"Seleccione el nivel de dificultad\")\n",
    "print(\"(1) Fácil (2) Medio (3) Dificil\")\n",
    "\n",
    "nivel = int(input(\"Ingrese nivel de dificultad: \"))\n",
    "if(nivel==1):\n",
    "  total_intentos = 20\n",
    "elif(nivel==2):\n",
    "  total_intentos = 10\n",
    "else:\n",
    "  total_intentos = 5\n",
    "\n",
    "for iteracion in range (1, total_intentos +1):\n",
    "  print(\"Intento: {} de {}\".format(iteracion,total_intentos))\n",
    "  entrada=input(\"Digite un número entre 1 y 100\")\n",
    "  entrada=int(entrada)\n",
    "  print(\"Digitaste...\",entrada)\n",
    "  if(entrada<1 or entrada>100):\n",
    "    print(\"Ingresar un número entre 1 y 100: \")\n",
    "    continue\n",
    "\n",
    "  acertaste=entrada==numero_secreto #Iguales\n",
    "  mayor=entrada>numero_secreto #Entrada es mayor\n",
    "  menor=entrada<numero_secreto #Entrada es menor\n",
    "\n",
    "  if(acertaste):\n",
    "    print(\"Felicitaciones, adivinaste el número\")\n",
    "    break\n",
    "  elif(mayor):\n",
    "    print(\"Lo siento, el número que ingresaste es mayor al secreto\")\n",
    "  else:\n",
    "    print(\"Lo siento, el número que ingresaste es menor al secreto\")\n",
    "\n",
    "\n",
    "\n",
    "print(\"Fin del juego\")\n"
   ]
  },
  {
   "cell_type": "markdown",
   "metadata": {
    "id": "XwSe2xesO96K"
   },
   "source": [
    "####Puntos para el juego"
   ]
  },
  {
   "cell_type": "code",
   "execution_count": null,
   "metadata": {
    "colab": {
     "base_uri": "https://localhost:8080/"
    },
    "id": "cANSkwidPAvK",
    "outputId": "d7d5e760-c9a8-40cf-fa6b-28613e9edd63"
   },
   "outputs": [],
   "source": [
    "puntos_perdidos=abs(50-70)\n",
    "puntos_perdidos"
   ]
  },
  {
   "cell_type": "code",
   "execution_count": null,
   "metadata": {
    "colab": {
     "base_uri": "https://localhost:8080/"
    },
    "id": "In7XsBBWP-YZ",
    "outputId": "50bab1d5-7001-4944-c96a-44b9efe94a93"
   },
   "outputs": [],
   "source": [
    "import random\n",
    "print(\"°°°°°°°°°°°°°°°°°°°°°°°°°°°°°°°°°\")\n",
    "print(\"Bienvenido al juego de adivinanza\")\n",
    "print()\n",
    "print(\"°°°°°°°°°°°°°°°°°°°°°°°°°°°°°°°°°\")\n",
    "\n",
    "numero_secreto=random.randrange(1,101)\n",
    "puntaje=1000\n",
    "\n",
    "print(\"Seleccione el nivel de dificultad\")\n",
    "print(\"(1) Fácil (2) Medio (3) Dificil\")\n",
    "\n",
    "nivel = int(input(\"Ingrese nivel de dificultad: \"))\n",
    "if(nivel==1):\n",
    "  total_intentos = 20\n",
    "elif(nivel==2):\n",
    "  total_intentos = 10\n",
    "else:\n",
    "  total_intentos = 5\n",
    "\n",
    "for iteracion in range (1, total_intentos +1):\n",
    "  print(\"Intento: {} de {}\".format(iteracion,total_intentos))\n",
    "  entrada=input(\"Digite un número entre 1 y 100\")\n",
    "  entrada=int(entrada)\n",
    "  print(\"Digitaste...\",entrada)\n",
    "  if(entrada<1 or entrada>100):\n",
    "    print(\"Ingresar un número entre 1 y 100: \")\n",
    "    continue\n",
    "\n",
    "  acertaste=entrada==numero_secreto #Iguales\n",
    "  mayor=entrada>numero_secreto #Entrada es mayor\n",
    "  menor=entrada<numero_secreto #Entrada es menor\n",
    "\n",
    "  if(acertaste):\n",
    "    print(\"Felicitaciones, adivinaste el número y ganaste {} puntos\".format(puntaje))\n",
    "    break\n",
    "  elif(mayor):\n",
    "    print(\"Lo siento, el número que ingresaste es mayor al secreto\")\n",
    "  else:\n",
    "    print(\"Lo siento, el número que ingresaste es menor al secreto\")\n",
    "\n",
    "  puntos_perdidos=abs(numero_secreto-entrada)\n",
    "  puntaje=puntaje-puntos_perdidos\n",
    "\n",
    "print(\"Fin del juego\")\n"
   ]
  },
  {
   "cell_type": "markdown",
   "metadata": {},
   "source": [
    "# Juego del ahorcado clase 15/08/23"
   ]
  },
  {
   "cell_type": "code",
   "execution_count": null,
   "metadata": {},
   "outputs": [],
   "source": [
    "def imprimir_mensaje_inicial():\n",
    "print(\"°°°°°°°°°°°°°°°°°°°°°°:°°°°°°°°°°°°\")\n",
    "print(\"Bienvenido al juego del ahorcado\")\n",
    "print(\"°°°°°°°°°°°°°°°°°°°°°°°°°°°°°°°°°°\")\n",
    "def Definir_Palabra_Secreta():\n",
    "        archivo=open('palabras.txt', 'r')\n",
    "    palabras=[]\n",
    "    \n",
    "    for linea in archivo: \n",
    "        linea=linea.strip()\n",
    "        palabras.append(linea)\n",
    "        \n",
    "    archivo.close()    \n",
    "    numero=random.randrange(0,len(palabras))\n",
    "    \n",
    "    palabra_secreta=palabras[numero].lower()\n",
    "    letras_acertadas =['_' for elemento in palabra_secreta]\n",
    "   # palabra_secreta='mandarina'\n",
    "    #letras_acertadas=['_','_','_','_','_','_','_','_','_',]\n",
    "\n",
    "    ahorcado = False\n",
    "    acerto = False\n",
    "    errores = 0      #contador de errores\n",
    "    \n",
    "    print(letras_acertadas)\n",
    "    while(not ahorcado and not acerto):\n",
    "        entrada = input ('ingrese una letra...')\n",
    "        entrada = entrada.strip()       #elimina espacios en blanco a la izquierda y derecha\n",
    "        entrada = entrada.lower()       #convierte a letras minusculas\n",
    "        \n",
    "        if entrada in palabra_secreta:\n",
    "            indice = 0\n",
    "            for letra in palabra_secreta:\n",
    "                if(entrada==letra):\n",
    "                    letras_acertadas[indice]=letra\n",
    "                    #print('Se encontro la letra {} en la posicion {}'.format(letra, indice))\n",
    "\n",
    "                indice = indice + 1\n",
    "        else:\n",
    "            errores += 1\n",
    "\n",
    "        ahorcado = errores == 9\n",
    "        acerto = '_' not in letras_acertadas\n",
    "        print(letras_acertadas)\n",
    "          \n",
    "    if(acerto):\n",
    "        print('Felicidades, ganaste!!')\n",
    "    else:\n",
    "        print('lo siento, perdiste!!')\n",
    "        \n",
    "            \n",
    "\n",
    "    print(\"Fin del Juego\")\n",
    "\n",
    "    \n",
    "if(_name=='__main_'):\n",
    "    \n",
    "    jugar()\n",
    "    \n",
    "print(\"Fin del juego\")"
   ]
  },
  {
   "cell_type": "markdown",
   "metadata": {},
   "source": [
    "# Crear set de juegos"
   ]
  },
  {
   "cell_type": "code",
   "execution_count": null,
   "metadata": {},
   "outputs": [],
   "source": [
    "import ahorcado\n",
    "import adivinanza\n",
    "\n",
    "print(\"°°°°°°°°°°°°°°°°°°°°°°°°°\")\n",
    "print(\"Elija su juego\")\n",
    "print(\"°°°°°°°°°°°°°°°°°°°°°°°°°\")\n",
    "\n",
    "print(\"(1) Ahorcado (2) Adivinanza\")\n",
    "\n",
    "juego = int(input(\"Seleccione el juego:  \"))\n",
    "\n",
    "if(juego==1):\n",
    "    print(\"Ahorcado\")\n",
    "elif(juego==2):\n",
    "    print(\"Jugando adivinanza\")"
   ]
  },
  {
   "cell_type": "code",
   "execution_count": null,
   "metadata": {},
   "outputs": [],
   "source": [
    "def jugar():\n",
    "    print(\"================================\")\n",
    "    print(\"Bienvenido al juego del ahorcado\")\n",
    "    print(\"================================\")\n",
    "    \n",
    "    palabra_secreta = \"mandarina\"\n",
    "    \n",
    "    ahorcado = False\n",
    "    acerto = False\n",
    "    \n",
    "    while(not ahorcado and not acerto):\n",
    "        entrada = input  (\"ingrese una letra....\")\n",
    "        entrada = entrada.strip()\n",
    "        entrada = entrada.lower()\n",
    "        indice = 0\n",
    "        for letra in palabra_secreta:\n",
    "            if(entrada==letra):\n",
    "                print(\"Se encontro la letra {}  en la posicion {} \".format(letra,indice))\n",
    "         \n",
    "            indice = indice + 1\n",
    "        print(\"jugando....\")\n",
    "        \n",
    "    print(\"Fin del juego\")\n",
    "    \n",
    "if(_name==\"__main_\"):\n",
    "    jugar()"
   ]
  },
  {
   "cell_type": "code",
   "execution_count": null,
   "metadata": {},
   "outputs": [],
   "source": [
    "palabra = \"manadarina\"\n",
    "palabra.capitaze() #convierte la pirmera letra en mayuscula\n"
   ]
  },
  {
   "cell_type": "code",
   "execution_count": null,
   "metadata": {},
   "outputs": [],
   "source": [
    "palabra.endswith(\"na\") # busca una sub cadena al final si encuentra lo mostrara"
   ]
  },
  {
   "cell_type": "code",
   "execution_count": null,
   "metadata": {},
   "outputs": [],
   "source": [
    "palabra2 = \"PROGRAMACION TRES\"\n",
    "palabra2.lower() #Convierte todo en miniscula"
   ]
  },
  {
   "cell_type": "code",
   "execution_count": null,
   "metadata": {},
   "outputs": [],
   "source": [
    "palabra.upper() #convierte la cadena en mayuscula"
   ]
  },
  {
   "cell_type": "code",
   "execution_count": null,
   "metadata": {},
   "outputs": [],
   "source": [
    "palabra = \"    abc   \"\n",
    "palabra.strip() #elimina el espacio en blanco"
   ]
  },
  {
   "cell_type": "code",
   "execution_count": null,
   "metadata": {},
   "outputs": [],
   "source": [
    "palabra = \"manadarina\"\n",
    "type(palabra)"
   ]
  },
  {
   "cell_type": "code",
   "execution_count": null,
   "metadata": {},
   "outputs": [],
   "source": [
    "palabra.find(\"m\") #es para buscar en la cadena la letra m"
   ]
  },
  {
   "cell_type": "code",
   "execution_count": null,
   "metadata": {},
   "outputs": [],
   "source": [
    "palabra.find(\"d\")"
   ]
  },
  {
   "cell_type": "code",
   "execution_count": null,
   "metadata": {},
   "outputs": [],
   "source": [
    "palabra.find(\"z\")"
   ]
  },
  {
   "cell_type": "code",
   "execution_count": null,
   "metadata": {},
   "outputs": [],
   "source": [
    "valores=[]\n",
    "type(valores)"
   ]
  },
  {
   "cell_type": "code",
   "execution_count": null,
   "metadata": {},
   "outputs": [],
   "source": [
    "valores=[0,1,2,3,\"x\"]\n",
    "7 in valores"
   ]
  },
  {
   "cell_type": "code",
   "execution_count": null,
   "metadata": {},
   "outputs": [],
   "source": [
    "'a' in 'mandarina'"
   ]
  },
  {
   "cell_type": "code",
   "execution_count": null,
   "metadata": {},
   "outputs": [],
   "source": [
    "valores=[0,1,2,3,4,5,7]"
   ]
  },
  {
   "cell_type": "code",
   "execution_count": null,
   "metadata": {},
   "outputs": [],
   "source": [
    "min (valores)"
   ]
  },
  {
   "cell_type": "code",
   "execution_count": null,
   "metadata": {},
   "outputs": [],
   "source": [
    "max (valores)"
   ]
  },
  {
   "cell_type": "code",
   "execution_count": null,
   "metadata": {},
   "outputs": [],
   "source": [
    "len (valores)"
   ]
  },
  {
   "cell_type": "code",
   "execution_count": null,
   "metadata": {
    "scrolled": true
   },
   "outputs": [],
   "source": [
    "valores.append(9)\n",
    "valores"
   ]
  },
  {
   "cell_type": "code",
   "execution_count": null,
   "metadata": {},
   "outputs": [],
   "source": [
    "valores.pop()"
   ]
  },
  {
   "cell_type": "code",
   "execution_count": null,
   "metadata": {},
   "outputs": [],
   "source": [
    "valores"
   ]
  },
  {
   "cell_type": "code",
   "execution_count": null,
   "metadata": {},
   "outputs": [],
   "source": []
  },
  {
   "cell_type": "markdown",
   "metadata": {},
   "source": [
    "# Archivos"
   ]
  },
  {
   "cell_type": "code",
   "execution_count": null,
   "metadata": {},
   "outputs": [],
   "source": []
  },
  {
   "cell_type": "code",
   "execution_count": null,
   "metadata": {},
   "outputs": [],
   "source": []
  },
  {
   "cell_type": "code",
   "execution_count": null,
   "metadata": {},
   "outputs": [],
   "source": [
    "archivo = open(\"palabras.txt\",\"w\")\n",
    "archivo"
   ]
  },
  {
   "cell_type": "code",
   "execution_count": null,
   "metadata": {},
   "outputs": [],
   "source": [
    "archivo.write(\"plátano\")"
   ]
  },
  {
   "cell_type": "code",
   "execution_count": null,
   "metadata": {},
   "outputs": [],
   "source": [
    "archivo.write(\"durazno\")"
   ]
  },
  {
   "cell_type": "code",
   "execution_count": null,
   "metadata": {},
   "outputs": [],
   "source": [
    "archivo.close()"
   ]
  },
  {
   "cell_type": "code",
   "execution_count": null,
   "metadata": {},
   "outputs": [],
   "source": [
    "archivo = open(\"palabras.txt\",\"a\")\n",
    "archivo.write(\"frutilla\\n\")"
   ]
  },
  {
   "cell_type": "code",
   "execution_count": null,
   "metadata": {},
   "outputs": [],
   "source": [
    "archivo.write(\"manzana\\n\")"
   ]
  },
  {
   "cell_type": "code",
   "execution_count": null,
   "metadata": {},
   "outputs": [],
   "source": [
    "archivo.close()"
   ]
  },
  {
   "cell_type": "markdown",
   "metadata": {},
   "source": [
    "# Leyendo un Archivo"
   ]
  },
  {
   "cell_type": "code",
   "execution_count": null,
   "metadata": {},
   "outputs": [],
   "source": [
    "archivo = open(\"Palabras.txt\",\"r\") #abrimos solo el archivo para lectura"
   ]
  },
  {
   "cell_type": "code",
   "execution_count": null,
   "metadata": {},
   "outputs": [],
   "source": [
    "archivo.write(\"chirimoya\")"
   ]
  },
  {
   "cell_type": "code",
   "execution_count": null,
   "metadata": {},
   "outputs": [],
   "source": [
    "archivo.read()"
   ]
  },
  {
   "cell_type": "code",
   "execution_count": null,
   "metadata": {},
   "outputs": [],
   "source": [
    "archivo.read()"
   ]
  },
  {
   "cell_type": "code",
   "execution_count": null,
   "metadata": {},
   "outputs": [],
   "source": [
    "archivo.close()"
   ]
  },
  {
   "cell_type": "markdown",
   "metadata": {},
   "source": [
    "# Queremos leer línea por línea, no todo el archivo"
   ]
  },
  {
   "cell_type": "code",
   "execution_count": null,
   "metadata": {
    "scrolled": true
   },
   "outputs": [],
   "source": [
    "archivo = open(\"Palabras.txt\",\"r\")\n",
    "for linea in archivo:\n",
    "    print(linea)"
   ]
  },
  {
   "cell_type": "code",
   "execution_count": null,
   "metadata": {},
   "outputs": [],
   "source": [
    "archivo.close()\n",
    "archivo = open(\"Palabras.txt\",\"r\")\n",
    "linea = archivo.readline()\n",
    "type(linea)"
   ]
  },
  {
   "cell_type": "code",
   "execution_count": null,
   "metadata": {},
   "outputs": [],
   "source": [
    "for linea in archivo:\n",
    "    print(linea)"
   ]
  },
  {
   "cell_type": "code",
   "execution_count": null,
   "metadata": {},
   "outputs": [],
   "source": [
    "linea.strip()"
   ]
  },
  {
   "cell_type": "markdown",
   "metadata": {},
   "source": [
    "import math\n",
    "unidades = [\"cero\", \"uno\", \"dos\" ,\"tres\" ,\"cuatro\" ,\"cinco\" ,\n",
    "            \"seis\" ,\"siete\" ,\"ocho\" ,\"nueve\",\"diez\"]\n",
    "especiales = [\"once\", \"doce\",\"trece\",\"catorce\", \"quince\",\n",
    "              \"diezciseis\", \"diecisiete\", \"dieciocho\", \"diecinueve\"]\n",
    "decenas = [\"veinte\", \"treinta\",\"cuarenta\",\"cincuenta\", \"sesenta\",\n",
    "           \"setenta\", \"ochenta\", \"noventa\"]\n",
    "\n",
    "#El dato ingresado lo convierte a entero y lo almacena en la variable num\n",
    "num = int(raw_input(\"Ingrese un numero entre 0-99: \"))\n",
    "\n",
    "if (num >=0 and num <11):\n",
    "    print unidades[num]\n",
    "\n",
    "elif (num < 20):\n",
    "    print especiales[num-11]\n",
    "\n",
    "elif (num <100):\n",
    "    \n",
    "    unid = num% 10;\n",
    "    #math.floor -> obtiene la parte entera de la division num/10\n",
    "    #luego ese resultado lo convertimos a entero, \n",
    "    dec = int(math.floor(num/10))\n",
    "    if (unid == 0):\n",
    "        print decenas[dec-2] \n",
    "    else:\n",
    "        print decenas[dec-2], \"y\" , unidades[unid]\n",
    "else:\n",
    "    print \"El numero debe ser menor a 100\"# listado"
   ]
  },
  {
   "cell_type": "code",
   "execution_count": null,
   "metadata": {},
   "outputs": [],
   "source": [
    "\n",
    "unidades=['','uno','dos','tres','cuatro','cinco','seis','siete','ocho','nueve']\n",
    "decenas=['','diez','vente','trenta','cuarenta','cincuenta','secenta','setenta','ochenta','noventa']\n",
    "dieces=['','once','doce','trece','catroce','quince','dieciseis','diecisiete','sieciocho','diescinueve']\n",
    "centena=['','cien','doscientos','trescientos','cuatrocientos','quinientos','seiscientos','setecientos','ochocientos','novecientos']\n",
    "literal=''\n",
    "numero=(input('ingrese numero'))\n",
    "posicion=2\n",
    "\n",
    "for indice in numero:\n",
    "    \n",
    "    if pocision==3:\n",
    "        literal=literal+' '+ centena[int(indice)]\n",
    "    if posicion==2:\n",
    "        literal=literal+' '+ decenas[int (indice)]\n",
    "    if posicion==1:\n",
    "        literal=literal+' '+ unidades[int (indice)]\n",
    "    \n",
    "    posicion=posicion-1\n",
    "    \n",
    "print(literal)\n",
    "  "
   ]
  },
  {
   "cell_type": "code",
   "execution_count": null,
   "metadata": {},
   "outputs": [],
   "source": [
    "import random\n",
    "    \n",
    "def Imprimir_Mensaje_Inicial():\n",
    "    print('================================')\n",
    "    print('Bienvenido al Juego del Ahorcado')\n",
    "    print('================================')\n",
    "\n",
    "def definir_palabra_secreta():\n",
    "    \n",
    "    archivo = open('palabras.txt','r')\n",
    "    palabras = []\n",
    "    for linea in archivo:\n",
    "        linea = linea.strip()\n",
    "        palabras.append(linea)\n",
    "    \n",
    "    archivo.close()\n",
    "    numero = random.randrange(0,len(palabras))\n",
    "    palabra_secreta = palabras[numero].lower()\n",
    "    return palabra_secreta\n",
    "\n",
    "def inicializar_letras_acertadas(palabra secreta):\n",
    "    return ['_' for elemento in palabra_secreta]\n",
    "def leer_entrada():\n",
    "    entrada=\n",
    "    \n",
    "    ahorcado = False\n",
    "    acerto = False\n",
    "    \n",
    "    print(letras_acertadas)\n",
    "    while ( not ahorcado and not acerto ):\n",
    "        entrada=input (\"ingrese una letra...\")\n",
    "        entrada = entrada.strip()\n",
    "        entrada = entrada.lower()\n",
    "        indice = 0\n",
    "        for letra in palabra_secreta:\n",
    "            if(entrada==letra):\n",
    "                letras_acertadas[indice] = letra\n",
    "                \n",
    "            indice = indice + 1\n",
    "                \n",
    "        print(letras_acertadas)\n",
    "        print('jugando...')\n",
    "\n",
    "    print(\"Fin del Juego\")\n",
    "    \n",
    "if(_name_ == \"_main_\"):\n",
    "    jugar()\n",
    "    \n",
    "\n",
    "def jugar(): ##nos permite q esto se use como funcion y cm programa principal\n",
    "    Imprimir_Mensaje_Inicial()\n",
    "        \n",
    "    palabra_secreta=definir_palabra_secreta()\n",
    "    \n",
    "    letras acertadas=inicializar_letras_acertadas(palabra_secreta)"
   ]
  },
  {
   "cell_type": "code",
   "execution_count": 37,
   "metadata": {},
   "outputs": [
    {
     "name": "stdout",
     "output_type": "stream",
     "text": [
      "================================\n",
      "Bienvenido al Juego del Ahorcado\n",
      "================================\n",
      "['_', '_', '_', '_', '_', '_', '_', '_']\n",
      "ingrese una letra...s\n"
     ]
    },
    {
     "ename": "NameError",
     "evalue": "name 'medir_largo_palabras' is not defined",
     "output_type": "error",
     "traceback": [
      "\u001b[1;31m---------------------------------------------------------------------------\u001b[0m",
      "\u001b[1;31mNameError\u001b[0m                                 Traceback (most recent call last)",
      "Cell \u001b[1;32mIn[37], line 154\u001b[0m\n\u001b[0;32m    150\u001b[0m         imprimir_mensaje_perdedor(palabra_secreta)\n\u001b[0;32m    153\u001b[0m \u001b[38;5;28;01mif\u001b[39;00m(\u001b[38;5;18m__name__\u001b[39m \u001b[38;5;241m==\u001b[39m \u001b[38;5;124m\"\u001b[39m\u001b[38;5;124m__main__\u001b[39m\u001b[38;5;124m\"\u001b[39m):\n\u001b[1;32m--> 154\u001b[0m     jugar()\n",
      "Cell \u001b[1;32mIn[37], line 143\u001b[0m, in \u001b[0;36mjugar\u001b[1;34m()\u001b[0m\n\u001b[0;32m    139\u001b[0m \u001b[38;5;28;01melse\u001b[39;00m:\n\u001b[0;32m    140\u001b[0m     errores \u001b[38;5;241m+\u001b[39m\u001b[38;5;241m=\u001b[39m \u001b[38;5;241m1\u001b[39m\n\u001b[1;32m--> 143\u001b[0m ahorcado\u001b[38;5;241m=\u001b[39merrores\u001b[38;5;241m==\u001b[39m medir_largo_palabras(palabra_secreta)\n\u001b[0;32m    144\u001b[0m acerto\u001b[38;5;241m=\u001b[39m \u001b[38;5;124m\"\u001b[39m\u001b[38;5;124m_\u001b[39m\u001b[38;5;124m\"\u001b[39m \u001b[38;5;129;01mnot\u001b[39;00m \u001b[38;5;129;01min\u001b[39;00m letras_acertadas\n\u001b[0;32m    145\u001b[0m \u001b[38;5;28mprint\u001b[39m(letras_acertadas) \n",
      "\u001b[1;31mNameError\u001b[0m: name 'medir_largo_palabras' is not defined"
     ]
    }
   ],
   "source": [
    "import random\n",
    "\n",
    "\n",
    "def imprimir_mensaje_inicial():\n",
    "    print('================================')\n",
    "    print('Bienvenido al Juego del Ahorcado')\n",
    "    print('================================')\n",
    "\n",
    "def definir_palabra_secreta():\n",
    "    archivo=open('palabra.txt','r')\n",
    "    palabra=[]\n",
    "    for linea in archivo:\n",
    "        linea=linea.strip()\n",
    "        palabra.append(linea)\n",
    "\n",
    "    archivo.close()\n",
    "    numero=random.randrange(0,len(palabra))\n",
    "    palabra_secreta = palabra[numero].lower()\n",
    "    return palabra_secreta\n",
    "\n",
    "def medir_largo_palabra(palabra_secreta):\n",
    "    return len(palabra_secreta)\n",
    "\n",
    "def inicializar_letras_acertadas(palabra_secreta):\n",
    "    return ['_' for elemento in palabra_secreta]\n",
    "def leer_entrada():\n",
    "    entrada=input (\"ingrese una letra...\")\n",
    "    entrada=entrada.strip()\n",
    "    entrada=entrada.lower()\n",
    "    return entrada\n",
    "def marcar_entrada_correcta(entrada,palabra_secreta,letras_acertadas):\n",
    "    indice = 0\n",
    "    for letra in palabra_secreta:\n",
    "        if(entrada==letra):\n",
    "            letras_acertadas[indice] = letra\n",
    "        indice = indice + 1 \n",
    "        \n",
    "def imprimir_mensaje_ganador():\n",
    "    print(\"\\n Felicitaciones, ganaste el juego!\")\n",
    "    print(\"       ___________      \")\n",
    "    print(\"      '._==_==_=_.'     \")\n",
    "    print(\"      .-\\\\:      /-.    \")\n",
    "    print(\"     | (|:.     |) |    \")\n",
    "    print(\"      '-|:.     |-'     \")\n",
    "    print(\"        \\\\::.    /      \")\n",
    "    print(\"         '::. .'        \")\n",
    "    print(\"           ) (          \")\n",
    "    print(\"         _.' '._        \")\n",
    "    print(\"        '-------'       \")        \n",
    "       \n",
    "    \n",
    "def imprimir_mensaje_perdedor(palabra_secreta):\n",
    "    print(\"\\n Lo siento, fuiste ahorcado!\")\n",
    "    print(\"La palabra era {}\".format(palabra_secreta))\n",
    "    print(\"    _______________         \")\n",
    "    print(\"   /               \\       \")\n",
    "    print(\"  /                 \\      \")\n",
    "    print(\"//                   \\/\\  \")\n",
    "    print(\"\\|   XXXX     XXXX   | /   \")\n",
    "    print(\" |   XXXX     XXXX   |/     \")\n",
    "    print(\" |   XXX       XXX   |      \")\n",
    "    print(\" |                   |      \")\n",
    "    print(\" \\__      XXX      __/     \")\n",
    "    print(\"   |\\     XXX     /|       \")\n",
    "    print(\"   | |           | |        \")\n",
    "    print(\"   | I I I I I I I |        \")\n",
    "    print(\"   |  I I I I I I  |        \")\n",
    "    print(\"   \\_             _/       \")\n",
    "    print(\"     \\_         _/         \")\n",
    "    print(\"       \\_______/           \")       \n",
    "    \n",
    "    \n",
    "def dibujar_ahorcado(errores):\n",
    "    print(\"  _______     \")\n",
    "    print(\" |/      |    \")\n",
    "\n",
    "    if(errores == 1):\n",
    "        print(\" |      (_)   \")\n",
    "        print(\" |            \")\n",
    "        print(\" |            \")\n",
    "        print(\" |            \")\n",
    "\n",
    "    if(errores == 2):\n",
    "        print(\" |      (_)   \")\n",
    "        print(\" |      \\     \")\n",
    "        print(\" |            \")\n",
    "        print(\" |            \")\n",
    "\n",
    "    if(errores == 3):\n",
    "        print(\" |      (_)   \")\n",
    "        print(\" |      \\|    \")\n",
    "        print(\" |            \")\n",
    "        print(\" |            \")\n",
    "\n",
    "    if(errores == 4):\n",
    "        print(\" |      (_)   \")\n",
    "        print(\" |      \\|/   \")\n",
    "        print(\" |            \")\n",
    "        print(\" |            \")\n",
    "\n",
    "    if(errores == 5):\n",
    "        print(\" |      (_)   \")\n",
    "        print(\" |      \\|/   \")\n",
    "        print(\" |       |    \")\n",
    "        print(\" |            \")\n",
    "\n",
    "    if(errores == 6):\n",
    "        print(\" |      (_)   \")\n",
    "        print(\" |      \\|/   \")\n",
    "        print(\" |       |    \")\n",
    "        print(\" |      /     \")\n",
    "\n",
    "    if (errores == 7):\n",
    "        print(\" |      (_)   \")\n",
    "        print(\" |      \\|/   \")\n",
    "        print(\" |       |    \")\n",
    "        print(\" |      / \\   \")\n",
    "\n",
    "    print(\" |            \")\n",
    "    print(\"_|___         \")\n",
    "    print()    \n",
    "    \n",
    "\n",
    "def jugar ():\n",
    "    imprimir_mensaje_inicial()\n",
    "    palabra_secreta=definir_palabra_secreta()\n",
    "    letras_acertadas=inicializar_letras_acertadas(palabra_secreta)\n",
    "    \n",
    "    ahorcado = False\n",
    "    acerto = False\n",
    "    errores=0   # contador de errorres\n",
    "    \n",
    "    print(letras_acertadas)\n",
    "    while ( not ahorcado and not acerto ):\n",
    "        \n",
    "        entrada=leer_entrada()\n",
    "        if entrada in palabra_secreta:\n",
    "            marcar_entrada_correcta(entrada,palabra_secreta,letras_acertadas)  \n",
    "        else:\n",
    "            errores += 1\n",
    "            \n",
    "            \n",
    "        ahorcado=errores== medir_largo_palabras(palabra_secreta)\n",
    "        acerto= \"_\" not in letras_acertadas\n",
    "        print(letras_acertadas) \n",
    "        \n",
    "    if(acerto):\n",
    "        imprimir_mensaje_ganador()\n",
    "    else:\n",
    "        imprimir_mensaje_perdedor(palabra_secreta)\n",
    "\n",
    "    \n",
    "if(__name__ == \"__main__\"):\n",
    "    jugar()"
   ]
  },
  {
   "cell_type": "code",
   "execution_count": null,
   "metadata": {
    "collapsed": true
   },
   "outputs": [],
   "source": [
    "def letra_esta_en_palaba(letra)\n",
    "  palabraGlobalAdvinanza\n",
    "for letra completa in palanraAdvinanza"
   ]
  }
 ],
 "metadata": {
  "colab": {
   "provenance": []
  },
  "kernelspec": {
   "display_name": "Python 3 (ipykernel)",
   "language": "python",
   "name": "python3"
  },
  "language_info": {
   "codemirror_mode": {
    "name": "ipython",
    "version": 3
   },
   "file_extension": ".py",
   "mimetype": "text/x-python",
   "name": "python",
   "nbconvert_exporter": "python",
   "pygments_lexer": "ipython3",
   "version": "3.11.4"
  }
 },
 "nbformat": 4,
 "nbformat_minor": 1
}
